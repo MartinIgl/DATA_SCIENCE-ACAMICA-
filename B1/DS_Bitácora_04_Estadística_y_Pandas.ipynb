{
 "cells": [
  {
   "cell_type": "markdown",
   "metadata": {
    "colab_type": "text",
    "id": "U8zyY9Zz1Py3"
   },
   "source": [
    "# Estadística Descriptiva y Pandas\n",
    "\n",
    "El objetivo del siguiente notebook es, además de repasar conceptos de estadística, que sigas aprendiendo a operar con Numpy y que, además, incorpores Pandas a tu caja de herramientas.\n",
    "\n",
    "## 1. Estadística Descriptiva\n",
    "\n",
    "La Estadística Descriptiva nos sirve para comenzar a analizar y entender un conjunto de datos. En el caso de datos numéricos, lo hace obteniendo *valores estadísticos* que, de alguna forma, reemplazan a nuestros datos. Por ejemplo, es muy difícil leer y *entender* la edad de 1000 personas. Pero con un grupo reducido de valores estadísticos **(mínimo, máximo, media y desviación estándar, etc.)** podemos aproximarnos a ese conjunto de una manera mucho más comprensible. Veamos dos medidas muy importantes:\n",
    "\n",
    "**Promedio**\n",
    "\n",
    "Dados $n$ números $x_1,x_2,...,x_n$, el promedio o media es \n",
    "\n",
    "$$\\overline{x} = \\frac{1}{n}\\sum_{i=1}^{n} x_i = \\frac{x_1 + x_2 + ... + x_n}{n}$$\n",
    "\n",
    "**Desviación Estándar**\n",
    "\n",
    "La varianza y la desviación estándar nos dan una idea de cuán \"dispersos\" están los valores con respecto a su promedio.\n",
    "\n",
    "$$ Var = \\frac{\\sum_{i=1}^{n} (x_i -\\overline{x})^2}{n - 1}$$\n",
    "\n",
    "La desviación estándar es la raiz cuadrada de la varianza. En general se usa la letra griega $\\sigma$ para representarla o las siglas $SD$:\n",
    "\n",
    "$$ SD = \\sqrt{\\frac{\\sum_{i=1}^{n} (x_i -\\overline{x})^2}{n - 1}}$$\n",
    "\n",
    "$$ SD = \\sqrt{Var}$$\n",
    "\n",
    "\n",
    "**Comentarios**:\n",
    "1. Dado un conjunto de números, el promedio suele ser considerado el número más representativo de ese conjunto. Esto no siempre es así. Pensá o googleá por qué. \n",
    "\n",
    "   **Esto solo es cierto si los datos estan normalmente distribuidos, si tiene asimetrias (es decir un conjunto de datos con mayor frecuencia de numeros chicos o grandes y pocos en el extremo opuesto. o con extremos con poca frecuencia. pueden generar que la media de la poblacion no represente debidamente al conjunto. En ese caso se usa la mediana que separa al conjunto en partes iguales**\n",
    "\n",
    "2. Al conjunto de números $x_1,...,x_n$ los pueden encontrar por el nombre de *población* o *muestra* (¡Ojo que no estamos diciendo que *población* y *muestra* sean lo mismo!) **el segundo esta contendio en el primero.**\n",
    "\n",
    "### Challenge:\n",
    "\n",
    "Vamos a utilizar de excusa la estadística descriptiva para hacer un desafío de programación:\n",
    "\n",
    "Dadas la siguiente lista de números, escribir una rutina que calcule su promedio, su varianza y desviación estándar. **Pistas:**\n",
    "* Probablemente te sea muy útil usar lo que hiciste para ejercicios anteriores.\n",
    "* Para calcular la varianza y la desviación estándar, usa el resultado que obtuviste al calcular el promedio."
   ]
  },
  {
   "cell_type": "code",
   "execution_count": 1,
   "metadata": {
    "colab": {},
    "colab_type": "code",
    "id": "lqCdXnSP1PzC"
   },
   "outputs": [
    {
     "name": "stdout",
     "output_type": "stream",
     "text": [
      "2.3333333333333335\n",
      "\n",
      "2.3333333333333335\n",
      "\n",
      "2.3333333333333335\n"
     ]
    }
   ],
   "source": [
    "import numpy as np\n",
    "x_s = [1,2,3,1,2,2,3,4,1,2,3,4,1,2,4]\n",
    "\n",
    "#forma mas larga\n",
    "suma=0\n",
    "for i in x_s:\n",
    "    suma+=i\n",
    "x_s_meanll=suma/(len(x_s))\n",
    "print(x_s_meanll)\n",
    "print()\n",
    "\n",
    "\n",
    "#forma larga\n",
    "x_s_meanl= np.sum(x_s)/(len(x_s))\n",
    "print(x_s_meanl)\n",
    "print()\n",
    "\n",
    "# forma rapida\n",
    "x_s_mean=np.mean(x_s)\n",
    "print(x_s_mean)"
   ]
  },
  {
   "cell_type": "code",
   "execution_count": 13,
   "metadata": {
    "colab": {},
    "colab_type": "code",
    "id": "PosCOxzC1Pzl"
   },
   "outputs": [
    {
     "name": "stdout",
     "output_type": "stream",
     "text": [
      "1.2380952380952384\n",
      "1.1126972805283737\n",
      "\n",
      "1.1555555555555554\n",
      "1.0749676997731399\n",
      "\n",
      "1.238095238095238\n",
      "1.1126972805283735\n"
     ]
    }
   ],
   "source": [
    "x_s = [1,2,3,1,2,2,3,4,1,2,3,4,1,2,4]\n",
    "x_s_mean=np.mean(x_s)\n",
    "\n",
    "#calculo la varianza\n",
    "#forma lenta\n",
    "data=0\n",
    "for i in x_s:\n",
    "    data+= (i-x_s_mean)**2   #esta parte se puede resumir con datas=(np.sum((x_s-x_s_mean)**2))\n",
    "    \n",
    "x_varl=data/(len(x_s)-1)\n",
    "x_stdl=np.sqrt(x_varl)    \n",
    "\n",
    "print(x_varl)\n",
    "print(x_stdl)\n",
    "print()\n",
    "\n",
    "#forma rapida con 1/n\n",
    "x_var=np.var(x_s)\n",
    "#calculo el desvio estandar\n",
    "x_std=np.std(x_s)\n",
    "print(x_var)\n",
    "print(x_std)\n",
    "\n",
    "print()\n",
    "#para n-1 grados de libertad uso\n",
    "x_var=np.var(x_s,ddof=1)\n",
    "#ddofint, optional. Means Delta Degrees of Freedom. The divisor used in calculations is N - ddof, where N represents the number of elements. By default ddof is zero.\n",
    "#equivale a la formula n-1\n",
    "x_std=np.std(x_s,ddof=1)\n",
    "\n",
    "print(x_var)\n",
    "print(x_std)\n"
   ]
  },
  {
   "cell_type": "markdown",
   "metadata": {
    "colab_type": "text",
    "id": "uMmPPSpQ1Pz9"
   },
   "source": [
    "¿Cómo te fue con el Challenge? Si no pudiste resolverlo, no te preocupes. ¡NumPy tiene funciones ya incorporadas que calcula algunos estadísticos sobre un arreglo!\n",
    "\n",
    "### 1.2 Estadística con NumPy\n",
    "\n",
    "Veamos cómo se calculan, en NumPy, el promedio, varianza y desviación estándar sobre un arreglo."
   ]
  },
  {
   "cell_type": "code",
   "execution_count": 3,
   "metadata": {
    "colab": {},
    "colab_type": "code",
    "id": "nyJsUM4j1P0C"
   },
   "outputs": [
    {
     "name": "stdout",
     "output_type": "stream",
     "text": [
      "2.3333333333333335\n",
      "1.238095238095238\n",
      "1.1126972805283735\n"
     ]
    }
   ],
   "source": [
    "import numpy as np\n",
    "\n",
    "x_s = np.array([1,2,3,1,2,2,3,4,1,2,3,4,1,2,4])\n",
    "\n",
    "# Promedio\n",
    "print(x_s.mean())\n",
    "\n",
    "# Varianza\n",
    "print(x_s.var(ddof = 1))\n",
    "#ddofint, optional. Means Delta Degrees of Freedom. The divisor used in calculations is N - ddof, where N represents the number of elements. By default ddof is zero.\n",
    "#equivale a la formula n-1\n",
    "# Desviación estándar\n",
    "print(x_s.std(ddof = 1))"
   ]
  },
  {
   "cell_type": "markdown",
   "metadata": {
    "colab_type": "text",
    "id": "NuADSmLC1P0S"
   },
   "source": [
    "**Para investigar**: ¿qué es el parámetro `ddof` de esa función?¿Qué pasa si no lo usas? Esta pregunta es **difícil** y requiere cierto conocimiento previo. Pero intenta, de todas formas, averiguarlo.\n",
    "\n",
    "De un conjunto de observaciones, los grados de libertad están dados por el número de valores que pueden ser asignados de forma arbitraria, antes de que el resto de las variables tomen un valor automáticamente, producto de establecerse las que son libres; esto, con el fin de compensar e igualar un resultado el cual se ha conocido previamente. Se encuentran mediante la fórmula n − r , donde n es el número de sujetos en la muestra que pueden tomar un valor y r es el número de sujetos cuyo valor dependerá del que tomen los miembros de la muestra que son libres.\n",
    "En este caso los GDL es igual al número de observaciones menos 1.\n",
    "En la funcion 1/N-1 indica los grados de liberad. donde N representa el numero de elementos. Por default es cero y realiza la varianza con 1/N\n",
    "\n",
    "Fuente: ['grados de libertad'](https://es.wikipedia.org/wiki/Grado_de_libertad_(estad%C3%ADstica)\n",
    "\n",
    "\n",
    "NumPy también puede calcular percentiles (¡googlear!), cuantiles, mínimos y máximos:"
   ]
  },
  {
   "cell_type": "code",
   "execution_count": 14,
   "metadata": {
    "colab": {},
    "colab_type": "code",
    "id": "BwBr3Gb_1P0Y"
   },
   "outputs": [
    {
     "name": "stdout",
     "output_type": "stream",
     "text": [
      "3.0\n",
      "2.0\n",
      "1\n",
      "4\n"
     ]
    }
   ],
   "source": [
    "print(np.percentile(x_s,75)) #valor que deja el 75% de la muestra a la izquierda (por debajo de este valor)\n",
    "print(np.quantile(x_s,0.5))  #valor que deja el 50% de la muestra a la izquierda (por debajo de este valor)\n",
    "print(np.min(x_s))\n",
    "print(np.max(x_s))"
   ]
  },
  {
   "cell_type": "markdown",
   "metadata": {
    "colab_type": "text",
    "id": "31cRSU0v1P0n"
   },
   "source": [
    "**Para investigar**: ¿Cuál es la diferencia entre `np.percentile()` y `np.quantile()`?¿Cómo obtendrías los cuartiles a partir de ellos?\n",
    "\n",
    "**Son equivalentes, solo que los cuantiles especifican entre  [0, 1] y los percentiles [0, 100].\n",
    "Los cuartiles se encuentran, separando los valores que tengan el 25, 50 y 75% de los datos por debajo de estos.**\n",
    "\n",
    "### 1.3 Generación de muestras al azar\n",
    "\n",
    "Una cosa sumamente útil que podemos hacer con NumPy es generar muestras al azar. Esto no permite simular situaciones. Por ejemplo, las tiradas de dados que aparecen en el GIF de la bitácora. Estas funciones las encontramos dentro del paquete `random` de NumPy, cuya documentación pueden encontrar [aquí](https://docs.scipy.org/doc/numpy-1.15.0/reference/routines.random.html). Veamos cómo lo podemos hacer:"
   ]
  },
  {
   "cell_type": "code",
   "execution_count": 4,
   "metadata": {
    "colab": {},
    "colab_type": "code",
    "id": "LveHBaed1P0u"
   },
   "outputs": [
    {
     "name": "stdout",
     "output_type": "stream",
     "text": [
      "[3 1 5 2 5 2 2 6 5 4 4 6 3 4 1]\n",
      "[6 5 3 2 3 4 5 1 1 5 2 4 4 2 2]\n"
     ]
    }
   ],
   "source": [
    "import numpy as np\n",
    "\n",
    "muestras_dado = np.random.randint(1,7, size = 15) #me hace un array de valores random entre 1 y 7, con tamanio 15\n",
    "print(muestras_dado)# random con distribucion uniforme\n",
    "\n",
    "### También se puede\n",
    "muestras_dado = np.random.choice([1,2,3,4,5,6], size = 15)\n",
    "print(muestras_dado)\n",
    "\n"
   ]
  },
  {
   "cell_type": "markdown",
   "metadata": {
    "colab_type": "text",
    "id": "iw5KJ1sN1P08"
   },
   "source": [
    "### Ejercitación\n",
    "\n",
    "**Ejercicio 1:** ¿Cuál será el promedio de los valores obtenidos al tirar muchas veces un dado?¿Te animás a averiguar - o calcular - cuánto *debería dar* antes de hacerlo? Vamos a tratar de responder esta pregunta **simulando** un dado. Para ello:\n",
    "* Obtener muestras al azar de un dado usando lo que vimos anteriormente.\n",
    "* Calcular su promedio y desviación estándar.\n",
    "\n",
    "¿A partir de qué cantidad de muestras el promedio se \"estabiliza\"?"
   ]
  },
  {
   "cell_type": "code",
   "execution_count": 74,
   "metadata": {
    "colab": {},
    "colab_type": "code",
    "id": "x5AP10hv1P1A",
    "scrolled": true
   },
   "outputs": [
    {
     "name": "stdout",
     "output_type": "stream",
     "text": [
      "3.500502\n",
      "1.7073800582010625\n"
     ]
    }
   ],
   "source": [
    "import numpy as np\n",
    "muestras_dado = np.random.randint(1,7, size = 1000000) #me hace un array de valores random entre 1 y 7, con tamanio 15\n",
    "#print(muestras_dado) #misma prob de ocurrencia con esta funcion 1/6\n",
    "\n",
    "media_dado=np.mean(muestras_dado) #muestras_dado.mean()\n",
    "std_dado=np.std(muestras_dado,ddof=1) #muestras_dado.std(ddof=1)\n",
    "\n",
    "print(media_dado)\n",
    "print(std_dado)\n",
    "\n",
    "#se estabiliza apartir de casi 1e6 muestras:\n",
    "#apartir de las 1000 veces tengo una media 3.5.... y std 1.7....\n",
    "#apartir de las 1e6 veces tengo una media de 3.500..  y std 1.707....\n"
   ]
  },
  {
   "cell_type": "markdown",
   "metadata": {
    "colab_type": "text",
    "id": "YBg5eGbD1P1P"
   },
   "source": [
    "**Ejercicio 2:** Simular un dado cargado para favorecer un valor de su elección. Por ejemplo, el seis. Para ello, consultar la ayuda de la función `np.random.choice`. ¿Cómo se modifica el promedio y la desviación estándar?"
   ]
  },
  {
   "cell_type": "code",
   "execution_count": 30,
   "metadata": {
    "colab": {},
    "colab_type": "code",
    "id": "bsRijYBY1P1U"
   },
   "outputs": [
    {
     "name": "stdout",
     "output_type": "stream",
     "text": [
      "4.551\n",
      "1.8129218641975957\n"
     ]
    }
   ],
   "source": [
    "import numpy as np\n",
    "dado=[1,2,3,4,5,6] \n",
    "muestra_cargada= np.random.choice(dado, p=[0.1, 0.1, 0.1, 0.1,0.1,0.5], size = 1000) #replace=reposicion #p=[0.05, 0.05, 0.05, 0.05, 0.05, 0.75] se espera ue e 75 porciento salga 6\n",
    "#la media depende de cuanto cargo los datos\n",
    "media_dado=muestra_cargada.mean()\n",
    "std_dado=muestra_cargada.std(ddof=1)\n",
    "\n",
    "print(media_dado)\n",
    "print(std_dado)\n",
    "\n",
    "#el promedio se corre a valores mayores, dado que la frecuencia con que aparecen el 6 sera mas alta. es decir que\n",
    "#hay mayor cantidad de datos hacia los valores mayores, por estar cargado.\n",
    "#el desvio estandar aumenta indicando que la dispersion de datos alrededor de la media aumenta\n",
    "\n"
   ]
  },
  {
   "cell_type": "markdown",
   "metadata": {
    "colab_type": "text",
    "id": "E49i11Xa1P1i"
   },
   "source": [
    "## 2. Pandas \n",
    "\n",
    "Pandas es la librería más conocida de Python para manipular y analizar datos. Está montada sobre NumPy, por lo cual muchas funcionalidades son similares. Utilizaremos Pandas para trabajar con datasets estructurados (y bueno, ¡bastante más!). \n",
    "\n",
    "Así como NumPy nos proveé de los *arreglos* y con ellos accedemos a muchas nuevas funcionalidades, Pandas nos provee de los *Data Frames* y las *Series*. Por lejos, el objeto más utilizados es el primero, los Data Frames. \n",
    "\n",
    "\n",
    "En esta sección empezaremos a:\n",
    "\n",
    "1. Familiarizarnos con los Data Frames de Pandas, manipular sus funciones básicas y entender la lógica de las mismas (¡para después googlearlas!).\n",
    "2. Empezar a trabajar con Datasets.\n",
    "\n",
    "**¡Manos a la obra!**\n",
    "\n",
    "### 2.1 Primeros pasos\n",
    "### https://pythonexamples.org/pandas-create-initialize-dataframe/\n",
    "Importamos la librería."
   ]
  },
  {
   "cell_type": "code",
   "execution_count": 31,
   "metadata": {
    "colab": {},
    "colab_type": "code",
    "id": "j24h6xmv1P1o"
   },
   "outputs": [],
   "source": [
    "import pandas as pd\n"
   ]
  },
  {
   "cell_type": "markdown",
   "metadata": {
    "colab_type": "text",
    "id": "FyLT8HgC1P11"
   },
   "source": [
    "Vamos a crear nuestro propio dataset. Es decir, agarrar a mano los datos poblacionales de http://www.ign.gob.ar/nuestrasactividades/geografia/datosargentina/divisionpolitica y guardarlos en una variable `data_dic`.\n",
    "    datos.argentina.gob.ar\n",
    "    datos.co\n",
    "    datos.ch\n",
    "    \n",
    "    *¿Qué tipo de variable es, desde el punto de vista de la programación? Un diccionario\n",
    "\n",
    "**Nota**: la población está en número de habitantes y la superficie en km2."
   ]
  },
  {
   "cell_type": "code",
   "execution_count": 33,
   "metadata": {
    "colab": {},
    "colab_type": "code",
    "id": "WQq6LK041P17"
   },
   "outputs": [],
   "source": [
    "data_dic = {\"Jurisdiccion\":[\"CABA\",\"Buenos Aires\",\"Catamarca\",\"Chaco\",\"Chubut\",\"Córdoba\",\"Jujuy\",\"Mendoza\",\"Misiones\",\"Río Negro\",\"Santa Cruz\",\n",
    "                           \"Santa Fe\"],\"Poblacion\":[2890151,15625084,367828,1055259,509108,3308876,673307,1738929,\n",
    "                                                   1101593,638645,273964,3194537],\"Superficie\":\n",
    "           [200,307521,102606,99633,509108,165321,53219,148827,29801,203013,243943,133007]}"
   ]
  },
  {
   "cell_type": "markdown",
   "metadata": {
    "colab_type": "text",
    "id": "rGxjjI1c1P2H"
   },
   "source": [
    "Así como podemos crear arreglos a partir de listas, podemos crear Data Frames a partir de diccionarios."
   ]
  },
  {
   "cell_type": "code",
   "execution_count": 34,
   "metadata": {
    "colab": {},
    "colab_type": "code",
    "id": "0SMR3d331P2L"
   },
   "outputs": [
    {
     "data": {
      "text/html": [
       "<div>\n",
       "<style scoped>\n",
       "    .dataframe tbody tr th:only-of-type {\n",
       "        vertical-align: middle;\n",
       "    }\n",
       "\n",
       "    .dataframe tbody tr th {\n",
       "        vertical-align: top;\n",
       "    }\n",
       "\n",
       "    .dataframe thead th {\n",
       "        text-align: right;\n",
       "    }\n",
       "</style>\n",
       "<table border=\"1\" class=\"dataframe\">\n",
       "  <thead>\n",
       "    <tr style=\"text-align: right;\">\n",
       "      <th></th>\n",
       "      <th>Jurisdiccion</th>\n",
       "      <th>Poblacion</th>\n",
       "      <th>Superficie</th>\n",
       "    </tr>\n",
       "  </thead>\n",
       "  <tbody>\n",
       "    <tr>\n",
       "      <th>0</th>\n",
       "      <td>CABA</td>\n",
       "      <td>2890151</td>\n",
       "      <td>200</td>\n",
       "    </tr>\n",
       "    <tr>\n",
       "      <th>1</th>\n",
       "      <td>Buenos Aires</td>\n",
       "      <td>15625084</td>\n",
       "      <td>307521</td>\n",
       "    </tr>\n",
       "    <tr>\n",
       "      <th>2</th>\n",
       "      <td>Catamarca</td>\n",
       "      <td>367828</td>\n",
       "      <td>102606</td>\n",
       "    </tr>\n",
       "    <tr>\n",
       "      <th>3</th>\n",
       "      <td>Chaco</td>\n",
       "      <td>1055259</td>\n",
       "      <td>99633</td>\n",
       "    </tr>\n",
       "    <tr>\n",
       "      <th>4</th>\n",
       "      <td>Chubut</td>\n",
       "      <td>509108</td>\n",
       "      <td>509108</td>\n",
       "    </tr>\n",
       "    <tr>\n",
       "      <th>5</th>\n",
       "      <td>Córdoba</td>\n",
       "      <td>3308876</td>\n",
       "      <td>165321</td>\n",
       "    </tr>\n",
       "    <tr>\n",
       "      <th>6</th>\n",
       "      <td>Jujuy</td>\n",
       "      <td>673307</td>\n",
       "      <td>53219</td>\n",
       "    </tr>\n",
       "    <tr>\n",
       "      <th>7</th>\n",
       "      <td>Mendoza</td>\n",
       "      <td>1738929</td>\n",
       "      <td>148827</td>\n",
       "    </tr>\n",
       "    <tr>\n",
       "      <th>8</th>\n",
       "      <td>Misiones</td>\n",
       "      <td>1101593</td>\n",
       "      <td>29801</td>\n",
       "    </tr>\n",
       "    <tr>\n",
       "      <th>9</th>\n",
       "      <td>Río Negro</td>\n",
       "      <td>638645</td>\n",
       "      <td>203013</td>\n",
       "    </tr>\n",
       "    <tr>\n",
       "      <th>10</th>\n",
       "      <td>Santa Cruz</td>\n",
       "      <td>273964</td>\n",
       "      <td>243943</td>\n",
       "    </tr>\n",
       "    <tr>\n",
       "      <th>11</th>\n",
       "      <td>Santa Fe</td>\n",
       "      <td>3194537</td>\n",
       "      <td>133007</td>\n",
       "    </tr>\n",
       "  </tbody>\n",
       "</table>\n",
       "</div>"
      ],
      "text/plain": [
       "    Jurisdiccion  Poblacion  Superficie\n",
       "0           CABA    2890151         200\n",
       "1   Buenos Aires   15625084      307521\n",
       "2      Catamarca     367828      102606\n",
       "3          Chaco    1055259       99633\n",
       "4         Chubut     509108      509108\n",
       "5        Córdoba    3308876      165321\n",
       "6          Jujuy     673307       53219\n",
       "7        Mendoza    1738929      148827\n",
       "8       Misiones    1101593       29801\n",
       "9      Río Negro     638645      203013\n",
       "10    Santa Cruz     273964      243943\n",
       "11      Santa Fe    3194537      133007"
      ]
     },
     "execution_count": 34,
     "metadata": {},
     "output_type": "execute_result"
    }
   ],
   "source": [
    "# Creamos el DataFrame\n",
    "data_pandas = pd.DataFrame(data_dic) #genera una tabla en funcion del diccionario\n",
    "data_pandas"
   ]
  },
  {
   "cell_type": "markdown",
   "metadata": {
    "colab_type": "text",
    "id": "2UlnyR6O1P2d"
   },
   "source": [
    "**Ejercicio 1:** investigar las funciones que se implementan en la próxima celda. ¿Qué hacen? ¿Para qué piensan que pueden ser útiles?"
   ]
  },
  {
   "cell_type": "code",
   "execution_count": 6,
   "metadata": {
    "colab": {},
    "colab_type": "code",
    "id": "Y5wTHya41P2i"
   },
   "outputs": [
    {
     "data": {
      "text/plain": [
       "(12, 3)"
      ]
     },
     "execution_count": 6,
     "metadata": {},
     "output_type": "execute_result"
    }
   ],
   "source": [
    "data_pandas.head() #devuelve las primeras n filas. por default 5 \n",
    "data_pandas.tail()  #devuelve las ultimas n filas. por default 5\n",
    "data_pandas.count() #cuenta valores, por default por columna, que no sean NAN/None/NaT/Nainfo nos da idea de datoscompletos e incompletos\n",
    "data_pandas.shape #muestra la dimension de filas y columnas del Dataframe"
   ]
  },
  {
   "cell_type": "markdown",
   "metadata": {
    "colab_type": "text",
    "id": "uozfwkNo1P2w"
   },
   "source": [
    "**Ejercicio 2:** agregar al Dataset la información correspondiente a alguna jurisdicción faltante. Recuerden que, al tratarse de una nueva instancia, corresponde a una fila. Pista: googlear \"add row to pandas dataframe\" o similar. No hay una única forma de hacerlo."
   ]
  },
  {
   "cell_type": "code",
   "execution_count": 7,
   "metadata": {
    "colab": {},
    "colab_type": "code",
    "id": "i__cR4Hh1P2z"
   },
   "outputs": [
    {
     "name": "stdout",
     "output_type": "stream",
     "text": [
      "Original DataFrame\n",
      "------------------\n",
      "    Jurisdiccion  Poblacion  Superficie\n",
      "0           CABA    2890151         200\n",
      "1   Buenos Aires   15625084      307521\n",
      "2      Catamarca     367828      102606\n",
      "3          Chaco    1055259       99633\n",
      "4         Chubut     509108      509108\n",
      "5        Córdoba    3308876      165321\n",
      "6          Jujuy     673307       53219\n",
      "7        Mendoza    1738929      148827\n",
      "8       Misiones    1101593       29801\n",
      "9      Río Negro     638645      203013\n",
      "10    Santa Cruz     273964      243943\n",
      "11      Santa Fe    3194537      133007\n",
      "\n",
      "\n",
      "New row added to DataFrame\n",
      "--------------------------\n",
      "    Jurisdiccion     Poblacion  Superficie\n",
      "0           CABA  2.890151e+06      200.00\n",
      "1   Buenos Aires  1.562508e+07   307521.00\n",
      "2      Catamarca  3.678280e+05   102606.00\n",
      "3          Chaco  1.055259e+06    99633.00\n",
      "4         Chubut  5.091080e+05   509108.00\n",
      "5        Córdoba  3.308876e+06   165321.00\n",
      "6          Jujuy  6.733070e+05    53219.00\n",
      "7        Mendoza  1.738929e+06   148827.00\n",
      "8       Misiones  1.101593e+06    29801.00\n",
      "9      Río Negro  6.386450e+05   203013.00\n",
      "10    Santa Cruz  2.739640e+05   243943.00\n",
      "11      Santa Fe  3.194537e+06   133007.00\n",
      "12      La Pampa  3.189510e+02      143.44\n"
     ]
    }
   ],
   "source": [
    "import pandas as pd\n",
    "data_dic = {\"Jurisdiccion\":[\"CABA\",\"Buenos Aires\",\"Catamarca\",\"Chaco\",\"Chubut\",\"Córdoba\",\"Jujuy\",\"Mendoza\",\"Misiones\",\"Río Negro\",\"Santa Cruz\",\n",
    "                           \"Santa Fe\"],\"Poblacion\":[2890151,15625084,367828,1055259,509108,3308876,673307,1738929,\n",
    "                                                   1101593,638645,273964,3194537],\"Superficie\":\n",
    "           [200,307521,102606,99633,509108,165321,53219,148827,29801,203013,243943,133007]}\n",
    "\n",
    "# Creamos el DataFrame\n",
    "data_pandas = pd.DataFrame(data_dic) #genera una tabla en funcion del diccionario\n",
    "print('Original DataFrame\\n------------------')\n",
    "print(data_pandas)\n",
    "\n",
    "\n",
    "#mydataframe = mydataframe.append(new_row, ignore_index=True)\n",
    "new_data_row = {'Jurisdiccion':'La Pampa', 'Poblacion':318.951, 'Superficie':143.440}\n",
    "#append row to the dataframe\n",
    "data_pandas = data_pandas.append(new_data_row, ignore_index=True)\n",
    "\n",
    "print('\\n\\nNew row added to DataFrame\\n--------------------------')\n",
    "print(data_pandas)"
   ]
  },
  {
   "cell_type": "markdown",
   "metadata": {
    "colab_type": "text",
    "id": "3XnYJjid1P2_"
   },
   "source": [
    "**Ejercicio 3:** Investigar las funciones columns e index. ¿Qué hacen? ¿Qué tipo de dato es su salida?¿A qué tipo de dato conocido se parecen?"
   ]
  },
  {
   "cell_type": "code",
   "execution_count": 37,
   "metadata": {
    "colab": {},
    "colab_type": "code",
    "id": "3TypUl1A1P3B"
   },
   "outputs": [
    {
     "data": {
      "text/plain": [
       "Index(['Jurisdiccion', 'Poblacion', 'Superficie'], dtype='object')"
      ]
     },
     "execution_count": 37,
     "metadata": {},
     "output_type": "execute_result"
    }
   ],
   "source": [
    "data_pandas.columns #muestra el metadato (key) o informacion sobre de que trata cada columna. Son objetos, es una lista\n",
    "#data_pandas.index # muestra el largo de las columnas, indica la cantidad de filas"
   ]
  },
  {
   "cell_type": "markdown",
   "metadata": {
    "colab_type": "text",
    "id": "EK-iDt4a1P3M"
   },
   "source": [
    "**Ejercicio 4:** ¿Qué hacen las siguientes operaciones?"
   ]
  },
  {
   "cell_type": "code",
   "execution_count": 41,
   "metadata": {
    "colab": {},
    "colab_type": "code",
    "id": "UAg6Cz5v1P3P"
   },
   "outputs": [
    {
     "data": {
      "text/plain": [
       "0             CABA\n",
       "1     Buenos Aires\n",
       "2        Catamarca\n",
       "3            Chaco\n",
       "4           Chubut\n",
       "5          Córdoba\n",
       "6            Jujuy\n",
       "7          Mendoza\n",
       "8         Misiones\n",
       "9        Río Negro\n",
       "10      Santa Cruz\n",
       "11        Santa Fe\n",
       "Name: Jurisdiccion, dtype: object"
      ]
     },
     "execution_count": 41,
     "metadata": {},
     "output_type": "execute_result"
    }
   ],
   "source": [
    "#select column using dot operator     a = myDataframe.column_name\n",
    "#select column using square brackets  a = myDataframe[coulumn_name]\n",
    "data_pandas['Jurisdiccion']  # selecciona la columna jurisdiccion\n",
    "data_pandas.Jurisdiccion\n",
    "\n",
    "#select column using square brackets  a = myDataframe[coulumn_name]\n",
    "#data_pandas[['Jurisdiccion','Poblacion']] #selecciona dos columnas tiene que estar en una lista para mas objetos\n",
    "\n",
    "\n",
    "#'Poblacion' in data_pandas #consulta al dataframe si existe una columna con dicho nombre. devuelve true\n",
    "#'densidad' in data_pandas   consulta al dataframe si existe una columna con dicho nombre. devuelve false"
   ]
  },
  {
   "cell_type": "markdown",
   "metadata": {
    "colab_type": "text",
    "id": "osTgGkDJ1P3X"
   },
   "source": [
    "**Ejercicio 5:** Agregar una columna al dataframe que corresponda a la densidad de cada jurisdicción. Usar la información que **ya está** en el dataset.data_pandas\n",
    "### https://pythonexamples.org/pandas-append-dataframe/"
   ]
  },
  {
   "cell_type": "code",
   "execution_count": 42,
   "metadata": {
    "colab": {},
    "colab_type": "code",
    "id": "8E5lnSqG1P3c"
   },
   "outputs": [
    {
     "name": "stdout",
     "output_type": "stream",
     "text": [
      "Original DataFrame\n",
      "------------------\n",
      "    Jurisdiccion     Poblacion  Superficie\n",
      "0           CABA  2.890151e+06      200.00\n",
      "1   Buenos Aires  1.562508e+07   307521.00\n",
      "2      Catamarca  3.678280e+05   102606.00\n",
      "3          Chaco  1.055259e+06    99633.00\n",
      "4         Chubut  5.091080e+05   509108.00\n",
      "5        Córdoba  3.308876e+06   165321.00\n",
      "6          Jujuy  6.733070e+05    53219.00\n",
      "7        Mendoza  1.738929e+06   148827.00\n",
      "8       Misiones  1.101593e+06    29801.00\n",
      "9      Río Negro  6.386450e+05   203013.00\n",
      "10    Santa Cruz  2.739640e+05   243943.00\n",
      "11      Santa Fe  3.194537e+06   133007.00\n",
      "12      La Pampa  3.189510e+02      143.44\n",
      "New DataFrame\n",
      "------------------\n",
      "    Jurisdiccion     Poblacion  Superficie  Densidad\n",
      "0           CABA  2.890151e+06      200.00   14450.8\n",
      "1   Buenos Aires  1.562508e+07   307521.00      50.8\n",
      "2      Catamarca  3.678280e+05   102606.00       3.6\n",
      "3          Chaco  1.055259e+06    99633.00      10.6\n",
      "4         Chubut  5.091080e+05   509108.00       2.3\n",
      "5        Córdoba  3.308876e+06   165321.00      20.0\n",
      "6          Jujuy  6.733070e+05    53219.00      12.7\n",
      "7        Mendoza  1.738929e+06   148827.00      11.7\n",
      "8       Misiones  1.101593e+06    29801.00      37.0\n",
      "9      Río Negro  6.386450e+05   203013.00       3.1\n",
      "10    Santa Cruz  2.739640e+05   243943.00       1.1\n",
      "11      Santa Fe  3.194537e+06   133007.00      24.0\n",
      "12      La Pampa  3.189510e+02      143.44       2.2\n",
      "New DataFrame\n",
      "------------------\n",
      "    Jurisdiccion  Densidad     Poblacion  Superficie  Densidad\n",
      "0           CABA   14450.8  2.890151e+06      200.00   14450.8\n",
      "1   Buenos Aires      50.8  1.562508e+07   307521.00      50.8\n",
      "2      Catamarca       3.6  3.678280e+05   102606.00       3.6\n",
      "3          Chaco      10.6  1.055259e+06    99633.00      10.6\n",
      "4         Chubut       2.3  5.091080e+05   509108.00       2.3\n",
      "5        Córdoba      20.0  3.308876e+06   165321.00      20.0\n",
      "6          Jujuy      12.7  6.733070e+05    53219.00      12.7\n",
      "7        Mendoza      11.7  1.738929e+06   148827.00      11.7\n",
      "8       Misiones      37.0  1.101593e+06    29801.00      37.0\n",
      "9      Río Negro       3.1  6.386450e+05   203013.00       3.1\n",
      "10    Santa Cruz       1.1  2.739640e+05   243943.00       1.1\n",
      "11      Santa Fe      24.0  3.194537e+06   133007.00      24.0\n",
      "12      La Pampa       2.2  3.189510e+02      143.44       2.2\n"
     ]
    }
   ],
   "source": [
    "import pandas as pd\n",
    "data_dic = {\"Jurisdiccion\":[\"CABA\",\"Buenos Aires\",\"Catamarca\",\"Chaco\",\"Chubut\",\"Córdoba\",\"Jujuy\",\"Mendoza\",\"Misiones\",\"Río Negro\",\"Santa Cruz\",\n",
    "                           \"Santa Fe\"],\"Poblacion\":[2890151,15625084,367828,1055259,509108,3308876,673307,1738929,\n",
    "                                                   1101593,638645,273964,3194537],\"Superficie\":\n",
    "           [200,307521,102606,99633,509108,165321,53219,148827,29801,203013,243943,133007]}\n",
    "\n",
    "# Creamos el DataFrame\n",
    "data_pandas = pd.DataFrame(data_dic) #genera una tabla en funcion del diccionario\n",
    "\n",
    "#mydataframe = mydataframe.append(new_row, ignore_index=True)\n",
    "new_data_row = {'Jurisdiccion':'La Pampa', 'Poblacion':318.951, 'Superficie':143.440}\n",
    "#append row to the dataframe\n",
    "data_pandas = data_pandas.append(new_data_row, ignore_index=True)\n",
    "\n",
    "print('Original DataFrame\\n------------------')\n",
    "print(data_pandas)\n",
    "\n",
    "\n",
    "#forma rapida, concatena al final\n",
    "# Declare a list that is to be converted into a column \n",
    "densidad =  [14450.8,50.8,3.6,10.6,2.3,20.,12.7,11.7,37.0,3.1,1.1,24.0,2.2 ]\n",
    "# Using 'Address' as the column name \n",
    "# and equating it to the list \n",
    "data_pandas['Densidad'] = densidad \n",
    "print('New DataFrame\\n------------------')\n",
    "print(data_pandas)\n",
    "\n",
    "#data_pandas['Densidad'] = data_pandas['Poblacion'] / data_pandas['Superficie'] data_pandas\n",
    "\n",
    "\n",
    "#otra forma donde podes poner en la columna deseada\n",
    "# Using DataFrame.insert() to add a column \n",
    "data_pandas.insert(1, \"Densidad\", [14450.8,50.8,3.6,10.6,2.3,20.,12.7,11.7,37.0,3.1,1.1,24.0,2.2 ], True)\n",
    "print('New DataFrame\\n------------------')\n",
    "print(data_pandas)"
   ]
  },
  {
   "cell_type": "markdown",
   "metadata": {
    "colab_type": "text",
    "id": "svpqtSdf1P3l"
   },
   "source": [
    "### 2.2 Filtrado por máscara.\n",
    "\n",
    "Lo que veremos a continuación es **muy importante**, ya que es una operación que haremos muchas veces. Su implementación es muy parecida tanto en NumPy como en Pandas, por lo que veremos cómo hacerlo primero en NumPy luego en Pandas.\n",
    "\n",
    "Supongamos que hacemos 50 tiradas de un dado, como hicimos en la sección anterior, pero queremos seleccionar solamente aquellas tiradas que fueron menores que cuatro. ¿Cómo podemos hacerlo?"
   ]
  },
  {
   "cell_type": "code",
   "execution_count": 13,
   "metadata": {
    "colab": {},
    "colab_type": "code",
    "id": "w5IZFKI_1P3o"
   },
   "outputs": [
    {
     "name": "stdout",
     "output_type": "stream",
     "text": [
      "[5 2 4 4 2 3 2 1 4 1 1 4 5 2 1 4 3 1 4 3 2 3 2 5 3 2 1 3 4 2 6 3 3 3 1 1 2\n",
      " 4 2 3 6 2 5 6 3 4 4 6 2 3]\n"
     ]
    }
   ],
   "source": [
    "import numpy as np\n",
    "muestras_dado = np.random.randint(1,7, size = 50)\n",
    "print(muestras_dado)"
   ]
  },
  {
   "cell_type": "markdown",
   "metadata": {
    "colab_type": "text",
    "id": "0QEABcgZ1P3y"
   },
   "source": [
    "Lo que podemos hacer es crear una máscara:"
   ]
  },
  {
   "cell_type": "code",
   "execution_count": 14,
   "metadata": {
    "colab": {},
    "colab_type": "code",
    "id": "STxwWNOi1P32"
   },
   "outputs": [
    {
     "name": "stdout",
     "output_type": "stream",
     "text": [
      "[False  True False False  True  True  True  True False  True  True False\n",
      " False  True  True False  True  True False  True  True  True  True False\n",
      "  True  True  True  True False  True False  True  True  True  True  True\n",
      "  True False  True  True False  True False False  True False False False\n",
      "  True  True]\n",
      "<class 'numpy.ndarray'>\n"
     ]
    }
   ],
   "source": [
    "mascara = muestras_dado < 4\n",
    "print(mascara)\n",
    "print(type(mascara))"
   ]
  },
  {
   "cell_type": "markdown",
   "metadata": {
    "colab_type": "text",
    "id": "IuAkOYoe1P4B"
   },
   "source": [
    "Notar que `mascara` es un arreglo de booleanos, con `True` en los valores que cumplen la condición y `False` donde no. Una vez que creamos la máscara, podemos usarla para seleccionar de nuestro arreglo aquellos elementos que queríamos:"
   ]
  },
  {
   "cell_type": "code",
   "execution_count": 15,
   "metadata": {
    "colab": {},
    "colab_type": "code",
    "id": "Cw8ZM97f1P4D"
   },
   "outputs": [
    {
     "name": "stdout",
     "output_type": "stream",
     "text": [
      "[2 2 3 2 1 1 1 2 1 3 1 3 2 3 2 3 2 1 3 2 3 3 3 1 1 2 2 3 2 3 2 3]\n"
     ]
    }
   ],
   "source": [
    "print(muestras_dado[mascara]) # me selecciona del vector anterior aquellos valores que son true"
   ]
  },
  {
   "cell_type": "markdown",
   "metadata": {
    "colab_type": "text",
    "id": "0rjN7J3A1P4M"
   },
   "source": [
    "Notar que con `mascara.sum()` podemos contar cuántas veces se cumple la condición que pedimos. Los que son true"
   ]
  },
  {
   "cell_type": "code",
   "execution_count": 16,
   "metadata": {
    "colab": {},
    "colab_type": "code",
    "id": "cUHV-_OC1P4Q"
   },
   "outputs": [
    {
     "name": "stdout",
     "output_type": "stream",
     "text": [
      "32\n"
     ]
    }
   ],
   "source": [
    "print(mascara.sum()) "
   ]
  },
  {
   "cell_type": "markdown",
   "metadata": {
    "colab_type": "text",
    "id": "UosUz_mI1P4X"
   },
   "source": [
    "A veces, podemos hacerlo en una sola línea. Supongamos que queremos aquellas tiradas donde salió seis:\n",
    "me devolvera un array donde se cumple la condicion"
   ]
  },
  {
   "cell_type": "code",
   "execution_count": 17,
   "metadata": {
    "colab": {},
    "colab_type": "code",
    "id": "do9s_9vn1P4Y"
   },
   "outputs": [
    {
     "name": "stdout",
     "output_type": "stream",
     "text": [
      "[6 6 6 6]\n"
     ]
    }
   ],
   "source": [
    "print(muestras_dado[muestras_dado == 6])"
   ]
  },
  {
   "cell_type": "markdown",
   "metadata": {
    "colab_type": "text",
    "id": "ZI1fVYFf1P4g"
   },
   "source": [
    "**En Pandas**\n",
    "\n",
    "Supongamos que queremos seleccionar aquellas jurisdicciones cuya población sea mayor a un millón de habitantes. Podemos hacerlo de la siguiente forma:"
   ]
  },
  {
   "cell_type": "code",
   "execution_count": 18,
   "metadata": {
    "colab": {},
    "colab_type": "code",
    "id": "n2sWVVBz1P4i"
   },
   "outputs": [
    {
     "data": {
      "text/html": [
       "<div>\n",
       "<style scoped>\n",
       "    .dataframe tbody tr th:only-of-type {\n",
       "        vertical-align: middle;\n",
       "    }\n",
       "\n",
       "    .dataframe tbody tr th {\n",
       "        vertical-align: top;\n",
       "    }\n",
       "\n",
       "    .dataframe thead th {\n",
       "        text-align: right;\n",
       "    }\n",
       "</style>\n",
       "<table border=\"1\" class=\"dataframe\">\n",
       "  <thead>\n",
       "    <tr style=\"text-align: right;\">\n",
       "      <th></th>\n",
       "      <th>Jurisdiccion</th>\n",
       "      <th>Poblacion</th>\n",
       "      <th>Superficie</th>\n",
       "      <th>Densidad</th>\n",
       "      <th>Densidad</th>\n",
       "    </tr>\n",
       "  </thead>\n",
       "  <tbody>\n",
       "    <tr>\n",
       "      <th>0</th>\n",
       "      <td>CABA</td>\n",
       "      <td>2890151.0</td>\n",
       "      <td>200.0</td>\n",
       "      <td>14450.8</td>\n",
       "      <td>14450.8</td>\n",
       "    </tr>\n",
       "    <tr>\n",
       "      <th>1</th>\n",
       "      <td>Buenos Aires</td>\n",
       "      <td>15625084.0</td>\n",
       "      <td>307521.0</td>\n",
       "      <td>50.8</td>\n",
       "      <td>50.8</td>\n",
       "    </tr>\n",
       "    <tr>\n",
       "      <th>3</th>\n",
       "      <td>Chaco</td>\n",
       "      <td>1055259.0</td>\n",
       "      <td>99633.0</td>\n",
       "      <td>10.6</td>\n",
       "      <td>10.6</td>\n",
       "    </tr>\n",
       "    <tr>\n",
       "      <th>5</th>\n",
       "      <td>Córdoba</td>\n",
       "      <td>3308876.0</td>\n",
       "      <td>165321.0</td>\n",
       "      <td>20.0</td>\n",
       "      <td>20.0</td>\n",
       "    </tr>\n",
       "    <tr>\n",
       "      <th>7</th>\n",
       "      <td>Mendoza</td>\n",
       "      <td>1738929.0</td>\n",
       "      <td>148827.0</td>\n",
       "      <td>11.7</td>\n",
       "      <td>11.7</td>\n",
       "    </tr>\n",
       "    <tr>\n",
       "      <th>8</th>\n",
       "      <td>Misiones</td>\n",
       "      <td>1101593.0</td>\n",
       "      <td>29801.0</td>\n",
       "      <td>37.0</td>\n",
       "      <td>37.0</td>\n",
       "    </tr>\n",
       "    <tr>\n",
       "      <th>11</th>\n",
       "      <td>Santa Fe</td>\n",
       "      <td>3194537.0</td>\n",
       "      <td>133007.0</td>\n",
       "      <td>24.0</td>\n",
       "      <td>24.0</td>\n",
       "    </tr>\n",
       "  </tbody>\n",
       "</table>\n",
       "</div>"
      ],
      "text/plain": [
       "    Jurisdiccion   Poblacion  Superficie  Densidad  Densidad\n",
       "0           CABA   2890151.0       200.0   14450.8   14450.8\n",
       "1   Buenos Aires  15625084.0    307521.0      50.8      50.8\n",
       "3          Chaco   1055259.0     99633.0      10.6      10.6\n",
       "5        Córdoba   3308876.0    165321.0      20.0      20.0\n",
       "7        Mendoza   1738929.0    148827.0      11.7      11.7\n",
       "8       Misiones   1101593.0     29801.0      37.0      37.0\n",
       "11      Santa Fe   3194537.0    133007.0      24.0      24.0"
      ]
     },
     "execution_count": 18,
     "metadata": {},
     "output_type": "execute_result"
    }
   ],
   "source": [
    "data_pandas[data_pandas.Poblacion > 1000000] #selecciona las filas donde se cumple la condicion"
   ]
  },
  {
   "cell_type": "markdown",
   "metadata": {
    "colab_type": "text",
    "id": "pZo21ebL1P5G"
   },
   "source": [
    "¿Y si queremos seleccionar aquellas jurisdicciones cuya población sea mayor a un millón de habitantes **y** su superficie menor a cien mil km2?"
   ]
  },
  {
   "cell_type": "code",
   "execution_count": 19,
   "metadata": {
    "colab": {},
    "colab_type": "code",
    "id": "Gia9i3AB1P5L"
   },
   "outputs": [
    {
     "name": "stdout",
     "output_type": "stream",
     "text": [
      "  Jurisdiccion  Poblacion  Superficie  Densidad  Densidad\n",
      "0         CABA  2890151.0       200.0   14450.8   14450.8\n",
      "3        Chaco  1055259.0     99633.0      10.6      10.6\n",
      "8     Misiones  1101593.0     29801.0      37.0      37.0\n",
      "  Jurisdiccion  Poblacion  Superficie  Densidad  Densidad\n",
      "0         CABA  2890151.0       200.0   14450.8   14450.8\n",
      "3        Chaco  1055259.0     99633.0      10.6      10.6\n",
      "8     Misiones  1101593.0     29801.0      37.0      37.0\n"
     ]
    }
   ],
   "source": [
    "mascara = np.logical_and(data_pandas.Poblacion > 1000000, data_pandas.Superficie < 100000) #funciona con operaciones logicas and or...\n",
    "data_pandas[mascara]\n",
    "print(data_pandas[mascara])\n",
    "\n",
    "### Es equivalente\n",
    "data_pandas[(data_pandas.Poblacion > 1000000) & (data_pandas.Superficie < 100000)]\n",
    "print(data_pandas[(data_pandas.Poblacion > 1000000) & (data_pandas.Superficie < 100000)])"
   ]
  },
  {
   "cell_type": "markdown",
   "metadata": {
    "colab_type": "text",
    "id": "Z057NM351P5W"
   },
   "source": [
    "**Ejercicio:** seleccionar aquellas jurisdicciones cuya población sea menor a 500 mil habitantes **o** su superficie mayor a cien mil km2."
   ]
  },
  {
   "cell_type": "code",
   "execution_count": 20,
   "metadata": {
    "colab": {},
    "colab_type": "code",
    "id": "EWJwPrS61P5Z"
   },
   "outputs": [
    {
     "name": "stdout",
     "output_type": "stream",
     "text": [
      "    Jurisdiccion     Poblacion  Superficie  Densidad\n",
      "1   Buenos Aires  1.562508e+07   307521.00      50.8\n",
      "2      Catamarca  3.678280e+05   102606.00       3.6\n",
      "4         Chubut  5.091080e+05   509108.00       2.3\n",
      "5        Córdoba  3.308876e+06   165321.00      20.0\n",
      "7        Mendoza  1.738929e+06   148827.00      11.7\n",
      "9      Río Negro  6.386450e+05   203013.00       3.1\n",
      "10    Santa Cruz  2.739640e+05   243943.00       1.1\n",
      "11      Santa Fe  3.194537e+06   133007.00      24.0\n",
      "12      La Pampa  3.189510e+02      143.44       2.2\n"
     ]
    }
   ],
   "source": [
    "import pandas as pd\n",
    "data_dic = {\"Jurisdiccion\":[\"CABA\",\"Buenos Aires\",\"Catamarca\",\"Chaco\",\"Chubut\",\"Córdoba\",\"Jujuy\",\"Mendoza\",\"Misiones\",\"Río Negro\",\"Santa Cruz\",\n",
    "                           \"Santa Fe\"],\"Poblacion\":[2890151,15625084,367828,1055259,509108,3308876,673307,1738929,\n",
    "                                                   1101593,638645,273964,3194537],\"Superficie\":\n",
    "           [200,307521,102606,99633,509108,165321,53219,148827,29801,203013,243943,133007]}\n",
    "\n",
    "# Creamos el DataFrame\n",
    "data_pandas = pd.DataFrame(data_dic) #genera una tabla en funcion del diccionario\n",
    "\n",
    "#mydataframe = mydataframe.append(new_row, ignore_index=True)\n",
    "new_data_row = {'Jurisdiccion':'La Pampa', 'Poblacion':318.951, 'Superficie':143.440}\n",
    "#append row to the dataframe\n",
    "data_pandas = data_pandas.append(new_data_row, ignore_index=True)\n",
    "\n",
    "\n",
    "#forma rapida, concatena al final\n",
    "# Declare a list that is to be converted into a column \n",
    "densidad =  [14450.8,50.8,3.6,10.6,2.3,20.,12.7,11.7,37.0,3.1,1.1,24.0,2.2 ]\n",
    "# Using 'Address' as the column name \n",
    "# and equating it to the list \n",
    "data_pandas['Densidad'] = densidad \n",
    "\n",
    "\n",
    "\n",
    "mascara = np.logical_or(data_pandas.Poblacion < 500000, data_pandas.Superficie > 100000) #funciona con operaciones logicas and or...\n",
    "#data_pandas[data_pandas.Poblacion < 500000 | data_pandas.Superficie > 100000]\n",
    "data_pandas[mascara]\n",
    "print(data_pandas[mascara])"
   ]
  },
  {
   "cell_type": "markdown",
   "metadata": {
    "colab_type": "text",
    "id": "H1nzSLbJ1P5g"
   },
   "source": [
    "## 2.3 Iris dataset\n",
    "\n",
    "¿Pero siempre vamos a tener que crear un diccionario y luego pasarlo a un Data Frame? Evidentemente, esta opción no parece muy cómoda, en particular para conjuntos de datos de gran volumen. Veamos cómo trabajamos con un conjunto de datos preexistente.\n",
    "\n",
    "\n",
    "**Aviso**: Esta sección es, en realidad, un ejercicio. Para hacerlo, debes ir googleando y consultando la documentación que consideres apropiada. Obviamente, también puedes consultar a tu mentor/a.\n",
    "\n",
    "Vamos a trabajar con el Iris Dataset, probablemente uno de los conjuntos de datos más famosos, ya que muchos ejemplos se realizan con él. Es un dataset sencillo pero ilustrativo.\n",
    "\n",
    "\n",
    "1. Abrir con Pandas el archivo 'DS_Bitácora_04_iris.csv' (¿Qué tipo de archivo es?) e imprimir sus primeros cinco elementos. Pista: `pd.read...()`."
   ]
  },
  {
   "cell_type": "code",
   "execution_count": 23,
   "metadata": {
    "colab": {},
    "colab_type": "code",
    "id": "c6WItGqC1P5i"
   },
   "outputs": [
    {
     "name": "stdout",
     "output_type": "stream",
     "text": [
      "     SepalLengthCm  SepalWidthCm  PetalLengthCm  PetalWidthCm         Species\n",
      "Id                                                                           \n",
      "1              5.1           3.5            1.4           0.2     Iris-setosa\n",
      "2              4.9           3.0            1.4           0.2     Iris-setosa\n",
      "3              4.7           3.2            1.3           0.2     Iris-setosa\n",
      "4              4.6           3.1            1.5           0.2     Iris-setosa\n",
      "5              5.0           3.6            1.4           0.2     Iris-setosa\n",
      "..             ...           ...            ...           ...             ...\n",
      "146            6.7           3.0            5.2           2.3  Iris-virginica\n",
      "147            6.3           2.5            5.0           1.9  Iris-virginica\n",
      "148            6.5           3.0            5.2           2.0  Iris-virginica\n",
      "149            6.2           3.4            5.4           2.3  Iris-virginica\n",
      "150            5.9           3.0            5.1           1.8  Iris-virginica\n",
      "\n",
      "[150 rows x 5 columns]\n"
     ]
    }
   ],
   "source": [
    "import pandas as pd\n",
    "#https://pandas.pydata.org/pandas-docs/stable/index.html\n",
    "#el CSV es un dataset estructurado (comma separated value) \n",
    "\n",
    "Iris=pd.read_csv('/home/martin/Desktop/Curso_DS_Acamica/Bloque_1/DS_Bitácora_04_Iris.csv', index_col=0)\n",
    "#selecciono la columna ID como mi indice  con  index_col=0\n",
    "#https://medium.com/dunder-data/selecting-subsets-of-data-in-pandas-6fcd0170be9c\n",
    "\n",
    "#print(Iris)\n",
    "\n",
    "print(Iris)\n",
    "#print(Iris.head())\n"
   ]
  },
  {
   "cell_type": "markdown",
   "metadata": {
    "colab_type": "text",
    "id": "IcsJiYe31P5p"
   },
   "source": [
    "2. ¿Cuántas columnas (features) tiene?¿Cuáles son sus nombres?¿Y cuántas filas (instancias)? Pistas: `shape`, `columns`."
   ]
  },
  {
   "cell_type": "code",
   "execution_count": 22,
   "metadata": {
    "colab": {},
    "colab_type": "code",
    "id": "BqDWhNM51P5r"
   },
   "outputs": [
    {
     "name": "stdout",
     "output_type": "stream",
     "text": [
      "Index(['SepalLengthCm', 'SepalWidthCm', 'PetalLengthCm', 'PetalWidthCm',\n",
      "       'Species'],\n",
      "      dtype='object')\n",
      "contiene 5 columnas\n",
      "los nombres de las columnas son ID como indice, SepalLengthCm, SepalWidthCm, PetalLengthCm, PetalWidthCm, Species\n",
      "contiene 150 filas\n"
     ]
    },
    {
     "data": {
      "text/plain": [
       "(150, 5)"
      ]
     },
     "execution_count": 22,
     "metadata": {},
     "output_type": "execute_result"
    }
   ],
   "source": [
    "#numero de columnas\n",
    "print(Iris.columns)\n",
    "\n",
    "print('contiene 5 columnas') \n",
    "print('los nombres de las columnas son ID como indice, SepalLengthCm, SepalWidthCm, PetalLengthCm, PetalWidthCm, Species')\n",
    "#Iris.count(1) #cuenta valores, por default por fila, que no sean NAN/None/NaT/Nainfo. da el numero de columnas por cada fila\n",
    "print('contiene 150 filas') \n",
    "#Iris.count(0)\n",
    "Iris.shape  #indica que tiene 150 filas y 5 columnas"
   ]
  },
  {
   "cell_type": "markdown",
   "metadata": {
    "colab_type": "text",
    "id": "LnO-Yoyh1P50"
   },
   "source": [
    "3. Obtener el valor medio y desviación estándar de cada columna. ¿Hay alguna función de Pandas que nos dé aún más estadísticos? Pistas: `describe`."
   ]
  },
  {
   "cell_type": "code",
   "execution_count": 24,
   "metadata": {
    "colab": {},
    "colab_type": "code",
    "id": "wTPFg2yT1P52"
   },
   "outputs": [
    {
     "name": "stdout",
     "output_type": "stream",
     "text": [
      "valor medio\n",
      "SepalLengthCm    5.843333\n",
      "SepalWidthCm     3.054000\n",
      "PetalLengthCm    3.758667\n",
      "PetalWidthCm     1.198667\n",
      "dtype: float64\n",
      "desvio estandar\n",
      "SepalLengthCm    0.828066\n",
      "SepalWidthCm     0.433594\n",
      "PetalLengthCm    1.764420\n",
      "PetalWidthCm     0.763161\n",
      "dtype: float64\n",
      "\n"
     ]
    },
    {
     "data": {
      "text/html": [
       "<div>\n",
       "<style scoped>\n",
       "    .dataframe tbody tr th:only-of-type {\n",
       "        vertical-align: middle;\n",
       "    }\n",
       "\n",
       "    .dataframe tbody tr th {\n",
       "        vertical-align: top;\n",
       "    }\n",
       "\n",
       "    .dataframe thead th {\n",
       "        text-align: right;\n",
       "    }\n",
       "</style>\n",
       "<table border=\"1\" class=\"dataframe\">\n",
       "  <thead>\n",
       "    <tr style=\"text-align: right;\">\n",
       "      <th></th>\n",
       "      <th>SepalLengthCm</th>\n",
       "      <th>SepalWidthCm</th>\n",
       "      <th>PetalLengthCm</th>\n",
       "      <th>PetalWidthCm</th>\n",
       "      <th>Species</th>\n",
       "    </tr>\n",
       "  </thead>\n",
       "  <tbody>\n",
       "    <tr>\n",
       "      <th>count</th>\n",
       "      <td>150.000000</td>\n",
       "      <td>150.000000</td>\n",
       "      <td>150.000000</td>\n",
       "      <td>150.000000</td>\n",
       "      <td>150</td>\n",
       "    </tr>\n",
       "    <tr>\n",
       "      <th>unique</th>\n",
       "      <td>NaN</td>\n",
       "      <td>NaN</td>\n",
       "      <td>NaN</td>\n",
       "      <td>NaN</td>\n",
       "      <td>3</td>\n",
       "    </tr>\n",
       "    <tr>\n",
       "      <th>top</th>\n",
       "      <td>NaN</td>\n",
       "      <td>NaN</td>\n",
       "      <td>NaN</td>\n",
       "      <td>NaN</td>\n",
       "      <td>Iris-versicolor</td>\n",
       "    </tr>\n",
       "    <tr>\n",
       "      <th>freq</th>\n",
       "      <td>NaN</td>\n",
       "      <td>NaN</td>\n",
       "      <td>NaN</td>\n",
       "      <td>NaN</td>\n",
       "      <td>50</td>\n",
       "    </tr>\n",
       "    <tr>\n",
       "      <th>mean</th>\n",
       "      <td>5.843333</td>\n",
       "      <td>3.054000</td>\n",
       "      <td>3.758667</td>\n",
       "      <td>1.198667</td>\n",
       "      <td>NaN</td>\n",
       "    </tr>\n",
       "    <tr>\n",
       "      <th>std</th>\n",
       "      <td>0.828066</td>\n",
       "      <td>0.433594</td>\n",
       "      <td>1.764420</td>\n",
       "      <td>0.763161</td>\n",
       "      <td>NaN</td>\n",
       "    </tr>\n",
       "    <tr>\n",
       "      <th>min</th>\n",
       "      <td>4.300000</td>\n",
       "      <td>2.000000</td>\n",
       "      <td>1.000000</td>\n",
       "      <td>0.100000</td>\n",
       "      <td>NaN</td>\n",
       "    </tr>\n",
       "    <tr>\n",
       "      <th>25%</th>\n",
       "      <td>5.100000</td>\n",
       "      <td>2.800000</td>\n",
       "      <td>1.600000</td>\n",
       "      <td>0.300000</td>\n",
       "      <td>NaN</td>\n",
       "    </tr>\n",
       "    <tr>\n",
       "      <th>50%</th>\n",
       "      <td>5.800000</td>\n",
       "      <td>3.000000</td>\n",
       "      <td>4.350000</td>\n",
       "      <td>1.300000</td>\n",
       "      <td>NaN</td>\n",
       "    </tr>\n",
       "    <tr>\n",
       "      <th>75%</th>\n",
       "      <td>6.400000</td>\n",
       "      <td>3.300000</td>\n",
       "      <td>5.100000</td>\n",
       "      <td>1.800000</td>\n",
       "      <td>NaN</td>\n",
       "    </tr>\n",
       "    <tr>\n",
       "      <th>max</th>\n",
       "      <td>7.900000</td>\n",
       "      <td>4.400000</td>\n",
       "      <td>6.900000</td>\n",
       "      <td>2.500000</td>\n",
       "      <td>NaN</td>\n",
       "    </tr>\n",
       "  </tbody>\n",
       "</table>\n",
       "</div>"
      ],
      "text/plain": [
       "        SepalLengthCm  SepalWidthCm  PetalLengthCm  PetalWidthCm  \\\n",
       "count      150.000000    150.000000     150.000000    150.000000   \n",
       "unique            NaN           NaN            NaN           NaN   \n",
       "top               NaN           NaN            NaN           NaN   \n",
       "freq              NaN           NaN            NaN           NaN   \n",
       "mean         5.843333      3.054000       3.758667      1.198667   \n",
       "std          0.828066      0.433594       1.764420      0.763161   \n",
       "min          4.300000      2.000000       1.000000      0.100000   \n",
       "25%          5.100000      2.800000       1.600000      0.300000   \n",
       "50%          5.800000      3.000000       4.350000      1.300000   \n",
       "75%          6.400000      3.300000       5.100000      1.800000   \n",
       "max          7.900000      4.400000       6.900000      2.500000   \n",
       "\n",
       "                Species  \n",
       "count               150  \n",
       "unique                3  \n",
       "top     Iris-versicolor  \n",
       "freq                 50  \n",
       "mean                NaN  \n",
       "std                 NaN  \n",
       "min                 NaN  \n",
       "25%                 NaN  \n",
       "50%                 NaN  \n",
       "75%                 NaN  \n",
       "max                 NaN  "
      ]
     },
     "execution_count": 24,
     "metadata": {},
     "output_type": "execute_result"
    }
   ],
   "source": [
    "#Obtener el valor medio y desviación estándar de cada columna.\n",
    "Mean=Iris.mean() #calculo la media del dataset por columnas que tengan valores numericos\n",
    "print('valor medio')\n",
    "print(Mean)\n",
    "print('desvio estandar')\n",
    "Std=Iris.std()\n",
    "print(Std)\n",
    "print()\n",
    "#https://pandas.pydata.org/pandas-docs/stable/reference/api/pandas.DataFrame.describe.html?highlight=describe#pandas.DataFrame.describe\n",
    "#genera la estadistica descriptiva en numeros y caracteres\n",
    "Iris.describe(include='all') "
   ]
  },
  {
   "cell_type": "markdown",
   "metadata": {
    "colab_type": "text",
    "id": "h0hQVgt21P58"
   },
   "source": [
    "4. ¿Creen que todas las columnas tienen información? *Tirar* la columna que crean que está demás. Dependiendo de la función que uses - hay más de una opción -, tal vez tengas que prestar **mucha** atención al argumento `inplace`. Pista: `drop`, `del`.\n",
    "\n",
    "## https://pandas.pydata.org/pandas-docs/stable/reference/api/pandas.DataFrame.drop.html?highlight=drop#pandas.DataFrame.drop\n",
    "## https://www.geeksforgeeks.org/python-delete-rows-columns-from-dataframe-using-pandas-drop/\n",
    "## https://note.nkmk.me/en/python-pandas-drop/"
   ]
  },
  {
   "cell_type": "code",
   "execution_count": 25,
   "metadata": {
    "colab": {},
    "colab_type": "code",
    "id": "FMWb9yIz1P5_"
   },
   "outputs": [
    {
     "name": "stdout",
     "output_type": "stream",
     "text": [
      "      Id  SepalLengthCm  SepalWidthCm  PetalLengthCm  PetalWidthCm  \\\n",
      "0      1            5.1           3.5            1.4           0.2   \n",
      "1      2            4.9           3.0            1.4           0.2   \n",
      "2      3            4.7           3.2            1.3           0.2   \n",
      "3      4            4.6           3.1            1.5           0.2   \n",
      "4      5            5.0           3.6            1.4           0.2   \n",
      "..   ...            ...           ...            ...           ...   \n",
      "145  146            6.7           3.0            5.2           2.3   \n",
      "146  147            6.3           2.5            5.0           1.9   \n",
      "147  148            6.5           3.0            5.2           2.0   \n",
      "148  149            6.2           3.4            5.4           2.3   \n",
      "149  150            5.9           3.0            5.1           1.8   \n",
      "\n",
      "            Species  \n",
      "0       Iris-setosa  \n",
      "1       Iris-setosa  \n",
      "2       Iris-setosa  \n",
      "3       Iris-setosa  \n",
      "4       Iris-setosa  \n",
      "..              ...  \n",
      "145  Iris-virginica  \n",
      "146  Iris-virginica  \n",
      "147  Iris-virginica  \n",
      "148  Iris-virginica  \n",
      "149  Iris-virginica  \n",
      "\n",
      "[150 rows x 6 columns]\n",
      "      Id  SepalLengthCm  SepalWidthCm  PetalLengthCm  PetalWidthCm  \\\n",
      "0      1            5.1           3.5            1.4           0.2   \n",
      "4      5            5.0           3.6            1.4           0.2   \n",
      "5      6            5.4           3.9            1.7           0.4   \n",
      "6      7            4.6           3.4            1.4           0.3   \n",
      "7      8            5.0           3.4            1.5           0.2   \n",
      "..   ...            ...           ...            ...           ...   \n",
      "145  146            6.7           3.0            5.2           2.3   \n",
      "146  147            6.3           2.5            5.0           1.9   \n",
      "147  148            6.5           3.0            5.2           2.0   \n",
      "148  149            6.2           3.4            5.4           2.3   \n",
      "149  150            5.9           3.0            5.1           1.8   \n",
      "\n",
      "            Species  \n",
      "0       Iris-setosa  \n",
      "4       Iris-setosa  \n",
      "5       Iris-setosa  \n",
      "6       Iris-setosa  \n",
      "7       Iris-setosa  \n",
      "..              ...  \n",
      "145  Iris-virginica  \n",
      "146  Iris-virginica  \n",
      "147  Iris-virginica  \n",
      "148  Iris-virginica  \n",
      "149  Iris-virginica  \n",
      "\n",
      "[147 rows x 6 columns]\n",
      "\n",
      "      Id  SepalWidthCm  PetalWidthCm         Species\n",
      "0      1           3.5           0.2     Iris-setosa\n",
      "4      5           3.6           0.2     Iris-setosa\n",
      "5      6           3.9           0.4     Iris-setosa\n",
      "6      7           3.4           0.3     Iris-setosa\n",
      "7      8           3.4           0.2     Iris-setosa\n",
      "..   ...           ...           ...             ...\n",
      "145  146           3.0           2.3  Iris-virginica\n",
      "146  147           2.5           1.9  Iris-virginica\n",
      "147  148           3.0           2.0  Iris-virginica\n",
      "148  149           3.4           2.3  Iris-virginica\n",
      "149  150           3.0           1.8  Iris-virginica\n",
      "\n",
      "[147 rows x 4 columns]\n",
      "\n"
     ]
    }
   ],
   "source": [
    "import pandas as pd\n",
    "\n",
    "Iris_corte=pd.read_csv('/home/martin/Desktop/Curso_DS_Acamica/Bloque_1/DS_Bitácora_04_Iris.csv')\n",
    "print(Iris_corte)\n",
    "\n",
    "#aqui la columna Id estaria de mas entonces quisiera borrarla\n",
    "\n",
    "# dropping rows\n",
    "Iris_corte.drop([1,2,3], inplace=True) #saque la fila 1,2,3 pero a mano. puedo hacer una lista que quiera y tengo que pegarla aqui.\n",
    "print(Iris_corte)\n",
    "print()\n",
    "\n",
    "# dropping  columns \n",
    "Iris_corte.drop([\"SepalLengthCm\", \"PetalLengthCm\"], axis = 1, inplace = True)  #para eliminar columnas es importante poner el axis\n",
    "print(Iris_corte) #implace reemplaza el dataframe original, si no tiene el implace o es false crea una copia del dataframe\n",
    "print()\n",
    "\n"
   ]
  },
  {
   "cell_type": "markdown",
   "metadata": {
    "colab_type": "text",
    "id": "xZc3ROA1uwsi"
   },
   "source": [
    "5. ¿Para qué sirven `loc` e `iloc`? Crea algunos ejemplos.\n",
    "https://www.shanelynn.ie/select-pandas-dataframe-rows-and-columns-using-iloc-loc-and-ix/\n",
    "https://www.w3resource.com/pandas/dataframe/dataframe-loc.php\n",
    "### puedo crear un subset de datos con estas funciones\n",
    "\n",
    "`loc`\n",
    "Accede a un grupo de filas y columnas por etiqueta(s) o una matriz booleana\n",
    "Localiza elementos de mi tabla apartir de las etiquetas o nombres con las que se identifica.\n",
    "\n",
    "`iloc`\n",
    "Indexación basada puramente en la ubicación de números enteros para la selección por posición.\n",
    "Permite ubicar elementos dentro del dataframe."
   ]
  },
  {
   "cell_type": "code",
   "execution_count": 26,
   "metadata": {
    "colab": {},
    "colab_type": "code",
    "id": "o7t65DAn1P6H"
   },
   "outputs": [
    {
     "name": "stdout",
     "output_type": "stream",
     "text": [
      "     SepalLengthCm  SepalWidthCm  PetalLengthCm  PetalWidthCm         Species\n",
      "Id                                                                           \n",
      "1              5.1           3.5            1.4           0.2     Iris-setosa\n",
      "2              4.9           3.0            1.4           0.2     Iris-setosa\n",
      "3              4.7           3.2            1.3           0.2     Iris-setosa\n",
      "4              4.6           3.1            1.5           0.2     Iris-setosa\n",
      "5              5.0           3.6            1.4           0.2     Iris-setosa\n",
      "..             ...           ...            ...           ...             ...\n",
      "146            6.7           3.0            5.2           2.3  Iris-virginica\n",
      "147            6.3           2.5            5.0           1.9  Iris-virginica\n",
      "148            6.5           3.0            5.2           2.0  Iris-virginica\n",
      "149            6.2           3.4            5.4           2.3  Iris-virginica\n",
      "150            5.9           3.0            5.1           1.8  Iris-virginica\n",
      "\n",
      "[150 rows x 5 columns]\n"
     ]
    },
    {
     "data": {
      "text/plain": [
       "Id\n",
       "1     1.4\n",
       "2     1.4\n",
       "3     1.3\n",
       "4     1.5\n",
       "5     1.4\n",
       "6     1.7\n",
       "7     1.4\n",
       "8     1.5\n",
       "9     1.4\n",
       "10    1.5\n",
       "Name: PetalLengthCm, dtype: float64"
      ]
     },
     "execution_count": 26,
     "metadata": {},
     "output_type": "execute_result"
    }
   ],
   "source": [
    "import pandas as pd\n",
    "\n",
    "Iris=pd.read_csv('/home/martin/Desktop/Curso_DS_Acamica/Bloque_1/DS_Bitácora_04_Iris.csv', index_col=0)\n",
    "\n",
    "print(Iris)\n",
    "#data.loc[<row selection>, <column selection>] \n",
    "#se pone en funcion de las etiquetas de las columnas y las etiquetas de la fila\n",
    "Iris.loc[3, 'PetalLengthCm']\n",
    "\n",
    "#data.iloc[<row selection>, <column selection>] \n",
    "#se pone en funcion del numero de filas y columnas en base al indice entero\n",
    "Iris.iloc[0] #me devuelve la priemra fila\n",
    "Iris.iloc[0,1] #me devuelve el valor en la primera fila, segunda columna\n",
    "Iris.iloc[0:10,2] # me devuelve las primeras 9 filas y la columna 3\n",
    "\n"
   ]
  },
  {
   "cell_type": "code",
   "execution_count": null,
   "metadata": {},
   "outputs": [],
   "source": []
  }
 ],
 "metadata": {
  "colab": {
   "collapsed_sections": [],
   "name": "DS_Bitácora_04_Estadística_y_Pandas.ipynb",
   "provenance": []
  },
  "kernelspec": {
   "display_name": "Python 3",
   "language": "python",
   "name": "python3"
  },
  "language_info": {
   "codemirror_mode": {
    "name": "ipython",
    "version": 3
   },
   "file_extension": ".py",
   "mimetype": "text/x-python",
   "name": "python",
   "nbconvert_exporter": "python",
   "pygments_lexer": "ipython3",
   "version": "3.8.5"
  }
 },
 "nbformat": 4,
 "nbformat_minor": 4
}
