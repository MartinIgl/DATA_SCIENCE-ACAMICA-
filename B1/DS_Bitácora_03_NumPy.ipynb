{
 "cells": [
  {
   "cell_type": "markdown",
   "metadata": {
    "colab_type": "text",
    "id": "Ev_oEXjx6w9Q"
   },
   "source": [
    "# Programación y NumPy\n",
    "\n",
    "En la primera parte de este notebook seguiremos explorando algunas cuestiones de programación. En la segunda parte, empezaremos a trabajar con NumPy, nuestra primera librería.\n",
    "\n",
    "## 1. Programación\n",
    "\n",
    "### 1.1 Operaciones Lógicas\n",
    "\n",
    "Comencemos viendo cómo implementar lo que vimos en la bitácora de operaciones lógicas. Te recomendamos tener la bitácora cerca así puedes consultarla.\n",
    "\n",
    "En primer lugar, la operación `not` es simplemente la negación del booleano."
   ]
  },
  {
   "cell_type": "code",
   "execution_count": 1,
   "metadata": {
    "colab": {},
    "colab_type": "code",
    "id": "kv2eNRpePBOy"
   },
   "outputs": [
    {
     "name": "stdout",
     "output_type": "stream",
     "text": [
      "False\n",
      "True\n"
     ]
    }
   ],
   "source": [
    "variable_1 = True\n",
    "print(not(variable_1))\n",
    "\n",
    "variable_2 = False\n",
    "print(not(variable_2))"
   ]
  },
  {
   "cell_type": "markdown",
   "metadata": {
    "colab": {},
    "colab_type": "code",
    "id": "LpCJFNp56w-F"
   },
   "source": [
    "La operación `and` nos devuelve `True` unicamente cuando ambas variables son verdaderas. Experimentar con la celda inferior y comprobar su tabla de verdad."
   ]
  },
  {
   "cell_type": "code",
   "execution_count": 6,
   "metadata": {
    "colab": {},
    "colab_type": "code",
    "id": "mHPhaiiJPBOv"
   },
   "outputs": [
    {
     "name": "stdout",
     "output_type": "stream",
     "text": [
      "False\n",
      "False\n",
      "False\n",
      "True\n"
     ]
    }
   ],
   "source": [
    "variable_1 = True\n",
    "variable_2 = False\n",
    "print(variable_2 and variable_2)\n",
    "print(variable_1 and variable_2)\n",
    "print(variable_2 and variable_1)\n",
    "print(variable_1 and variable_1)"
   ]
  },
  {
   "cell_type": "markdown",
   "metadata": {
    "colab_type": "text",
    "id": "tIzs0GsO6w-k"
   },
   "source": [
    "**Ejercicio:** comprobar la tabla de verdad de la operación `or` jugando con la celda siguiente. Viene con trampa(s)."
   ]
  },
  {
   "cell_type": "code",
   "execution_count": 7,
   "metadata": {
    "colab": {},
    "colab_type": "code",
    "id": "i9QxO0SgPBO3"
   },
   "outputs": [
    {
     "name": "stdout",
     "output_type": "stream",
     "text": [
      "True\n",
      "True\n",
      "True\n",
      "False\n"
     ]
    }
   ],
   "source": [
    "variable_1 = True\n",
    "variable_2 = False\n",
    "\n",
    "print(variable_1 or variable_2)\n",
    "print(variable_2 or variable_1)\n",
    "print(variable_1 or variable_1)\n",
    "print(variable_2 or variable_2)\n"
   ]
  },
  {
   "cell_type": "markdown",
   "metadata": {
    "colab_type": "text",
    "id": "oa016g7sPBP2"
   },
   "source": [
    "### 1.2 Estructuras de control - Condicionales\n",
    "\n",
    "Los condicionales nos permiten ejecutar o no un bloque de codigo dependiendo de ciertas condiciones. En lenguaje coloquial, vendrían a ser del estilo de \"Si se cumple esta condición, hace A. Si no se cumple, hace B\", donde B puede ser, simplemente, no hacer nada. Veamos qué formas toman.\n",
    "\n",
    "### 1.2.1 If\n",
    "\n",
    "El condicional más simple es el `if`. Para mayor claridad escribiremos la condicion entre parentesis (), aunque esto no es necesario. Su estructura es \n",
    "\n",
    "``` python\n",
    "if condicion:\n",
    "    Si se cumple la condición, se ejecutan estas líneas de código\n",
    "```\n",
    "\n",
    "Veamos algunos ejemplos:"
   ]
  },
  {
   "cell_type": "code",
   "execution_count": 8,
   "metadata": {
    "colab": {},
    "colab_type": "code",
    "id": "TYisVuiEPBP4"
   },
   "outputs": [
    {
     "name": "stdout",
     "output_type": "stream",
     "text": [
      "El valor es mayor que 10\n"
     ]
    }
   ],
   "source": [
    "valor = 15\n",
    "if (valor > 10):\n",
    "    print('El valor es mayor que 10')"
   ]
  },
  {
   "cell_type": "markdown",
   "metadata": {
    "colab_type": "text",
    "id": "-hz-IXpJPBP6"
   },
   "source": [
    "Prestar atención a que la condición debe ser un booleano"
   ]
  },
  {
   "cell_type": "code",
   "execution_count": 9,
   "metadata": {
    "colab": {},
    "colab_type": "code",
    "id": "BCXXXwRMPBP7"
   },
   "outputs": [
    {
     "name": "stdout",
     "output_type": "stream",
     "text": [
      "True\n",
      "<class 'bool'>\n"
     ]
    }
   ],
   "source": [
    "print(valor > 10)\n",
    "print(type(valor > 10))"
   ]
  },
  {
   "cell_type": "markdown",
   "metadata": {
    "colab_type": "text",
    "id": "b8smKAgj6w_Y"
   },
   "source": [
    "**Nota:** para comparar variables, tenemos las operaciones menor `<`, mayor `>`, igualdad `==`, menor o igual  `<=`, y mayor o igual `>=`."
   ]
  },
  {
   "cell_type": "code",
   "execution_count": 11,
   "metadata": {
    "colab": {},
    "colab_type": "code",
    "id": "ZxEo7yDf6w_b"
   },
   "outputs": [
    {
     "name": "stdout",
     "output_type": "stream",
     "text": [
      "True\n",
      "False\n",
      "True\n",
      "True\n",
      "False\n"
     ]
    }
   ],
   "source": [
    "#https://www.w3schools.com/python/python_operators.asp\n",
    "print(3 == 3)\n",
    "print(3!=3)\n",
    "print(3 <= 3)\n",
    "print(3 >= 3)\n",
    "print(3 > 3)\n"
   ]
  },
  {
   "cell_type": "markdown",
   "metadata": {
    "colab_type": "text",
    "id": "zaIO1UwlPBP_"
   },
   "source": [
    "### 1.2.2 If, Else\n",
    "\n",
    "A la estrucutra con `if` se le puede agregar otro bloque de codigo que se ejecute si la condición exigida NO se cumple. Esto se logra mediante la expresión `else`.\n",
    "\n",
    "``` python\n",
    "if condicion:\n",
    "    Si se cumple la condición, se ejecutan estas líneas de código\n",
    "else:\n",
    "    Si NO se cumple la condición, se ejecutan estas líneas de código\n",
    "```"
   ]
  },
  {
   "cell_type": "code",
   "execution_count": 12,
   "metadata": {
    "colab": {},
    "colab_type": "code",
    "id": "Hf8xuG6iPBP_"
   },
   "outputs": [
    {
     "name": "stdout",
     "output_type": "stream",
     "text": [
      "Esta persona NO se llama Juan\n"
     ]
    }
   ],
   "source": [
    "nombre = 'Pedro'\n",
    "\n",
    "if (nombre == 'Juan'):\n",
    "    print('Esta persona se llama Juan')\n",
    "else:\n",
    "    print('Esta persona NO se llama Juan')"
   ]
  },
  {
   "cell_type": "markdown",
   "metadata": {
    "colab_type": "text",
    "id": "R5prOWCT6w_3"
   },
   "source": [
    "Prestar atención, nuevamente, a que la condición - lo que está entre paréntesis - es un booleano."
   ]
  },
  {
   "cell_type": "code",
   "execution_count": 13,
   "metadata": {
    "colab": {},
    "colab_type": "code",
    "id": "GVfCLIQyPBQB"
   },
   "outputs": [
    {
     "data": {
      "text/plain": [
       "False"
      ]
     },
     "execution_count": 13,
     "metadata": {},
     "output_type": "execute_result"
    }
   ],
   "source": [
    "'Juan'=='Pedro'"
   ]
  },
  {
   "cell_type": "markdown",
   "metadata": {
    "colab_type": "text",
    "id": "1AJNWoqhPBQJ"
   },
   "source": [
    "### 1.2.3 If, Elif, Else\n",
    "A esta estructura se le pueden sumar tantas condiciones encadenadas como uno desee, mediante la expresión `elif`. El orden en que se van chequeando las condiciones depende de su posición, priemero se chequea el `if`, luego el primer `elif`, luego el segundo, y así sucesivamente.\n",
    "\n",
    "``` python\n",
    "if condicion_1:\n",
    "    Si se cumple la condicion_1 , se ejecutan estas líneas de código\n",
    "elif condicion_2:\n",
    "    Si se cumple la condicion_2 , se ejecutan estas líneas de código\n",
    "elif condicion_3:\n",
    "    Si se cumple la condicion_3 , se ejecutan estas líneas de código\n",
    "else:\n",
    "    Si NO se cumple ninguna de las condiciones anteriores, se ejecutan líneas celdas de código\n",
    "```\n"
   ]
  },
  {
   "cell_type": "code",
   "execution_count": 14,
   "metadata": {
    "colab": {},
    "colab_type": "code",
    "id": "psA9onaFPBQL"
   },
   "outputs": [
    {
     "name": "stdout",
     "output_type": "stream",
     "text": [
      "Esta persona tiene mas de 18 años\n"
     ]
    }
   ],
   "source": [
    "edad = 20\n",
    "\n",
    "if (edad < 18):\n",
    "    print('Esta persona tiene menos de 18 años')\n",
    "elif (edad > 18):\n",
    "    print('Esta persona tiene mas de 18 años')\n",
    "else:\n",
    "    print('Esta persona tiene justo 18 años')"
   ]
  },
  {
   "cell_type": "markdown",
   "metadata": {
    "colab_type": "text",
    "id": "ZHXdIEkSW6wa"
   },
   "source": [
    "**Ejercicio**: Escriba un bloque de código que, dado un número, imprima la frase \"El numero es par\" si el número es par o la frase \"El numero es impar\" si no lo es."
   ]
  },
  {
   "cell_type": "code",
   "execution_count": 45,
   "metadata": {
    "colab": {},
    "colab_type": "code",
    "id": "7uWbEw9BYAL4"
   },
   "outputs": [
    {
     "name": "stdout",
     "output_type": "stream",
     "text": [
      "el numero es impar\n"
     ]
    }
   ],
   "source": [
    "numero = 17\n",
    "\n",
    "#si es divisible por 2 es par \n",
    "if ((numero%2) == 0):\n",
    "    print('El numero es par')\n",
    "else: #caso contrario es impar\n",
    "    print('el numero es impar')\n"
   ]
  },
  {
   "cell_type": "markdown",
   "metadata": {
    "colab_type": "text",
    "id": "qecxWClXPBQM"
   },
   "source": [
    "### 1.3 Combinando estructuras de código\n",
    "\n",
    "Las estructuras de loops que vimos en la bitácora anterior y condicionales que aprendimos se pueden combinar para generar comportamientos más complejos. Supongamos que tenemos una lista de edades y nos queremos quedar con aquellas que sean mayores que 18 años. Podemos hacer lo siguiente:"
   ]
  },
  {
   "cell_type": "code",
   "execution_count": 46,
   "metadata": {
    "colab": {},
    "colab_type": "code",
    "id": "69DHgsOjPBQN"
   },
   "outputs": [
    {
     "name": "stdout",
     "output_type": "stream",
     "text": [
      "[20, 29, 42, 18]\n"
     ]
    }
   ],
   "source": [
    "lista_de_edades = [4,20,15,29,11,42,10,18]\n",
    "lista_mayores = []\n",
    "\n",
    "for edad in lista_de_edades:\n",
    "    if (edad >= 18):\n",
    "        # Agremos a la lista de mayores\n",
    "        lista_mayores.append(edad)\n",
    "\n",
    "print(lista_mayores)"
   ]
  },
  {
   "cell_type": "markdown",
   "metadata": {
    "colab_type": "text",
    "id": "IeZnpQLV6xAv"
   },
   "source": [
    "### 1.4 Operaciones lógicas y estructuras de control\n",
    "\n",
    "A veces, queremos ejecutar una línea de código si se cumple más de una condición. Esto se puede lograr fácilmente usando las operaciones lógicas que vimos. Supongamos que tenemos una lista de números, y queremos seleccionar aquellos que cumplan ciertas propiedades. Por ejemplo, que son mayores o iguales que 5 y menores que 20. Podríamos hacer lo siguiente:"
   ]
  },
  {
   "cell_type": "code",
   "execution_count": 49,
   "metadata": {
    "colab": {},
    "colab_type": "code",
    "id": "sC-PhM3o6xA0"
   },
   "outputs": [
    {
     "name": "stdout",
     "output_type": "stream",
     "text": [
      "[6, 17, 5, 6, 13, 15]\n",
      "[6, 17, 5, 6, 13, 15]\n"
     ]
    }
   ],
   "source": [
    "numeros = [0,3,1,4,6,17,3,89,5,6,4,13,25,4,3,23,1,15,2]\n",
    "seleccionados = []\n",
    "for numero in numeros:\n",
    "    if numero >= 5:\n",
    "        if numero < 20:\n",
    "            seleccionados.append(numero)\n",
    "print(seleccionados) #condiciones anidadas\n",
    "\n",
    "\n",
    "numeros = [0,3,1,4,6,17,3,89,5,6,4,13,25,4,3,23,1,15,2]\n",
    "seleccionados = []\n",
    "for numero in numeros:\n",
    "    if ((numero >= 5) & (numero < 20)):\n",
    "        seleccionados.append(numero)\n",
    "print(seleccionados)"
   ]
  },
  {
   "cell_type": "markdown",
   "metadata": {
    "colab_type": "text",
    "id": "Tc_42Pgi6xA8"
   },
   "source": [
    "Notar que los números seleccionados cumplen los requisitos que pedimos. Pero también podríamos hacerlo así:"
   ]
  },
  {
   "cell_type": "code",
   "execution_count": 50,
   "metadata": {
    "colab": {},
    "colab_type": "code",
    "id": "GgeeSiSK6xBA"
   },
   "outputs": [
    {
     "name": "stdout",
     "output_type": "stream",
     "text": [
      "[6, 17, 5, 6, 13, 15]\n"
     ]
    }
   ],
   "source": [
    "numeros = [0,3,1,4,6,17,3,89,5,6,4,13,25,4,3,23,1,15,2]\n",
    "seleccionados = []\n",
    "for numero in numeros:\n",
    "    if numero >= 5 and numero < 20: #((numero >= 5) & (numero < 20))\n",
    "        seleccionados.append(numero)\n",
    "print(seleccionados)"
   ]
  },
  {
   "cell_type": "markdown",
   "metadata": {
    "colab_type": "text",
    "id": "bp86CHMb6xBI"
   },
   "source": [
    "El resultado es el mismo. Si bien esta forma es más compacta, no necesariamente implica que sea mejor. Uno/a elije hacerlo de una u otra forma según lo que le parezca más claro; si ambas condiciones juntas son difíciles de leer, tal vez puedes usar la primera forma.\n",
    "\n",
    "**Ejercicio**: Modifica el ejemplo anterior para que seleccione aquellos números **mayores** que 5 **o** impares."
   ]
  },
  {
   "cell_type": "code",
   "execution_count": 53,
   "metadata": {
    "colab": {},
    "colab_type": "code",
    "id": "AVpW_iRp6xBL"
   },
   "outputs": [
    {
     "name": "stdout",
     "output_type": "stream",
     "text": [
      "[3, 1, 6, 17, 3, 89, 5, 6, 13, 25, 3, 23, 1, 15]\n"
     ]
    }
   ],
   "source": [
    "numeros = [0,3,1,4,6,17,3,89,5,6,4,13,25,4,3,23,1,15,2]\n",
    "seleccionados = []\n",
    "for numero in numeros:\n",
    "    if (numero > 5) or ((numero%2)!=0):\n",
    "        seleccionados.append(numero)\n",
    "print(seleccionados)"
   ]
  },
  {
   "cell_type": "markdown",
   "metadata": {
    "colab_type": "text",
    "id": "3t8rRW2j6xBU"
   },
   "source": [
    "### Ejercitación\n",
    "\n",
    "**Ejercicio 1**: ¿Qué pasa si sumás, restás, multiplicás o dividís booleanos? Pruébalo e interpreta."
   ]
  },
  {
   "cell_type": "code",
   "execution_count": 57,
   "metadata": {
    "colab": {},
    "colab_type": "code",
    "id": "d1FkUOkT6xBW"
   },
   "outputs": [
    {
     "name": "stdout",
     "output_type": "stream",
     "text": [
      "2\n",
      "1\n",
      "0\n",
      "1\n",
      "1\n",
      "0\n",
      "1.0\n",
      "0.0\n",
      "Los booleanos true=1 y false=0\n"
     ]
    }
   ],
   "source": [
    "print(True + True)\n",
    "print(True + False)\n",
    "\n",
    "print(True - True)\n",
    "print(True - False)\n",
    "\n",
    "print(True * True)\n",
    "print(True * False)\n",
    "\n",
    "print(True / True)\n",
    "print(False / True)\n",
    "\n",
    "print('Los booleanos true=1 y false=0')\n"
   ]
  },
  {
   "cell_type": "markdown",
   "metadata": {
    "colab_type": "text",
    "id": "Rn69wJ-y6xBg"
   },
   "source": [
    "**Ejercicio 2**: Hacer una estructur `if/else` que compare dos variables numéricas `A` y `B` y que decida cuál es mayor e imprima en pantalla \"A es mayor que B\" o \"B es mayor que A\" . "
   ]
  },
  {
   "cell_type": "code",
   "execution_count": 61,
   "metadata": {
    "colab": {},
    "colab_type": "code",
    "id": "NUxrQf9A6xBs"
   },
   "outputs": [
    {
     "name": "stdout",
     "output_type": "stream",
     "text": [
      "A es mayor que B\n"
     ]
    }
   ],
   "source": [
    "A = 5\n",
    "B = 4\n",
    "\n",
    "if (A>B):\n",
    "    print('A es mayor que B')\n",
    "elif (A<B):\n",
    "    print('B es mayor que A')\n",
    "else:\n",
    "    print('A es igual a B')\n"
   ]
  },
  {
   "cell_type": "markdown",
   "metadata": {
    "colab_type": "text",
    "id": "LcNOZBVO6xBz"
   },
   "source": [
    "**Ejercicio 3 - Challenge**: Dada la siguiente lista de numeros:"
   ]
  },
  {
   "cell_type": "code",
   "execution_count": null,
   "metadata": {
    "colab": {},
    "colab_type": "code",
    "id": "nixTh2uwPBQQ"
   },
   "outputs": [],
   "source": [
    "numeros = [4,5,1,3,5,7,8,1,3,4,1,7,8,1,3,4,5,2,1,2,4,5]"
   ]
  },
  {
   "cell_type": "markdown",
   "metadata": {
    "colab_type": "text",
    "id": "XLWP4dKfPBQS"
   },
   "source": [
    "Escribir una rutina que calcule la suma de los números **pares menores que 5** en esta lista. **Pistas:** \n",
    "* Hay muchas formas de hacerlo, si piensas en más de una, mejor. Pero trata de tomar los ejemplos que vimos en este notebook.\n",
    "* El resultado es 20. \n",
    "* Recuerda que puedes inicializar una variable en cero, y luego ir modificándola en un loop. Hicimos algo así en el notebook de la bitácora anterior con una variable que llamamos `i` y en el ejercicio 5 del mismo notebook."
   ]
  },
  {
   "cell_type": "code",
   "execution_count": 3,
   "metadata": {
    "colab": {},
    "colab_type": "code",
    "id": "Rl2hqB-e6xB_"
   },
   "outputs": [
    {
     "name": "stdout",
     "output_type": "stream",
     "text": [
      "20\n"
     ]
    }
   ],
   "source": [
    "numeros = [4,5,1,3,5,7,8,1,3,4,1,7,8,1,3,4,5,2,1,2,4,5]\n",
    "\n",
    "suma=0\n",
    "for i in numeros:\n",
    "    if ((i<5) & ((i%2)==0)):\n",
    "        suma+=i\n",
    "print(suma)"
   ]
  },
  {
   "cell_type": "markdown",
   "metadata": {
    "colab_type": "text",
    "id": "EOZ7KmA46xCG"
   },
   "source": [
    "**Ejercicio 4 - Challenge Opcional**: Dada la siguiente lista de numeros:"
   ]
  },
  {
   "cell_type": "code",
   "execution_count": null,
   "metadata": {
    "colab": {},
    "colab_type": "code",
    "id": "aaYZXXHi6xCI"
   },
   "outputs": [],
   "source": [
    "numeros_en_texto = ['2', '3', '2', '3', '2', '2', '2', '2', '3', '2', '3', '1', '3', '1', '2', '2', '2', '2', '2', '2', '2', '2', '1', '2', '3', '2', '2', '2', '2', '1', '2', '3', '2', '2', '3', '2', '3', '3', '2', '2', '1', '3', '3', '2', '3', '2', '2', '1', '2', '1', '1', '2', '2', '3', '2', '2', '2', '3', '2', '2', '2', '1', '2', '2', '3', '2', '2', '2', '2', '1', '2', '2', '2', '2', '3', '1', '2', '3', '3', '2', '3', '2', '2', '3', '3', '1', '1', '3', '2', '1', '2', '2', '2', '1', '1', '2', '2', '2', '2', '2', '2', '2', '3', '3', '1', '3', '3', '3', '2', '2', '2', '2', '2', '2', '2', '3', '3', '2', '2', '3', '2', '2', '2', '2', '2', '3', '3', '2', '2', '1', '3', '2', '2', '2', '3', '2', '3', '1', '3', '3', '2', '3', '3', '2', '2', '2', '2', '2', '2', '1', '2', '2', '1', '2', '3', '2', '1', '3', '1', '2', '3', '3', '3', '2', '3', '1', '3', '2', '3', '1', '2', '2', '2', '3', '3', '2', '2', '2', '2', '2', '3', '1', '2', '3', '3', '2', '2', '3', '2', '2', '2', '3', '2', '2', '2', '2', '1', '2', '3', '1', '3', '2', '2', '3', '3', '3', '2', '2', '1', '1']\n",
    "print(numeros_en_texto)"
   ]
  },
  {
   "cell_type": "markdown",
   "metadata": {
    "colab_type": "text",
    "id": "7csAGf6h6xCQ"
   },
   "source": [
    "Calcule la suma de los unos (1) y los tres (3) en esta lista. Nuevamente, hay muchas formas de hacerlo. **Pistas:** \n",
    "* El resultado es 210.\n",
    "* Puede reciclar código de ejemplos anteriores y del ejercicio anterior.\n",
    "* Se pueden comparar strings, ver ejemplo más arriba.\n",
    "* También se pueden forzar tipos de datos. Por ejemplo, `int('4')` nos devuelve un 4, entero.\n",
    "* Se puede resolver sin usar todas las pistas"
   ]
  },
  {
   "cell_type": "code",
   "execution_count": 3,
   "metadata": {
    "colab": {},
    "colab_type": "code",
    "id": "vOghc-f86xCT"
   },
   "outputs": [
    {
     "name": "stdout",
     "output_type": "stream",
     "text": [
      "210\n"
     ]
    }
   ],
   "source": [
    "numeros_en_texto = ['2', '3', '2', '3', '2', '2', '2', '2', '3', '2', '3', '1', '3', '1', '2', '2', '2', '2', '2', '2', '2', '2', '1', '2', '3', '2', '2', '2', '2', '1', '2', '3', '2', '2', '3', '2', '3', '3', '2', '2', '1', '3', '3', '2', '3', '2', '2', '1', '2', '1', '1', '2', '2', '3', '2', '2', '2', '3', '2', '2', '2', '1', '2', '2', '3', '2', '2', '2', '2', '1', '2', '2', '2', '2', '3', '1', '2', '3', '3', '2', '3', '2', '2', '3', '3', '1', '1', '3', '2', '1', '2', '2', '2', '1', '1', '2', '2', '2', '2', '2', '2', '2', '3', '3', '1', '3', '3', '3', '2', '2', '2', '2', '2', '2', '2', '3', '3', '2', '2', '3', '2', '2', '2', '2', '2', '3', '3', '2', '2', '1', '3', '2', '2', '2', '3', '2', '3', '1', '3', '3', '2', '3', '3', '2', '2', '2', '2', '2', '2', '1', '2', '2', '1', '2', '3', '2', '1', '3', '1', '2', '3', '3', '3', '2', '3', '1', '3', '2', '3', '1', '2', '2', '2', '3', '3', '2', '2', '2', '2', '2', '3', '1', '2', '3', '3', '2', '2', '3', '2', '2', '2', '3', '2', '2', '2', '2', '1', '2', '3', '1', '3', '2', '2', '3', '3', '3', '2', '2', '1', '1']\n",
    "suma=0\n",
    "for Num in numeros_en_texto:\n",
    "    if ((Num == '1') or (Num == '3')):\n",
    "        suma+=int(Num)\n",
    "print(suma)\n",
    "\n",
    "#print(numeros_en_texto.count('3'), numeros_en_texto.count('1')) a = 60 * 3 b = 30 c = a + b print(c) \n",
    "b = [int(x) for x in numeros_en_texto] \n",
    "c = b.count(1)*1 + b.count(3)*3 print(c) \n",
    "#https://www.w3schools.com/python/ref_func_map.asp \n",
    "# COMPLETAR numeros_int = list(map(int, numeros_en_texto)) suma = 0 # usamos la función map, para aplicar la fx int a cada elemento de la lista numeros_en_texto # se propdría sobrescribir la misma lista, en vez de crear una nueva, pero, a efectos de este ejercicio # no habrá problemas de memoria/performance. for numero in numeros_int: if(numero in (3,1)): suma += numero print('La suma es', suma)"
   ]
  },
  {
   "cell_type": "markdown",
   "metadata": {
    "colab_type": "text",
    "id": "TTDIO6cP6xCc"
   },
   "source": [
    "## 2. Numpy\n",
    "https://aprendeconalf.es/python/manual/numpy.html\n",
    "\n",
    "Empezaremos a dar nuestros primeros pasos con NumPy. Es muy importante que googlees y consultes la documentación. Si no la instalaste, ahora es un buen momento.\n",
    "\n",
    "Cuando queremos usar una librería, primero debemos importarla. Más adelante veremos qué significa importar una librería, pero podemos entenderlo como que es un aviso a Python de que vamos a incorporar nuevas funcionalidades; en este caso, desde NumPy."
   ]
  },
  {
   "cell_type": "code",
   "execution_count": 4,
   "metadata": {
    "colab": {},
    "colab_type": "code",
    "id": "rPcaeHHt6xCe"
   },
   "outputs": [],
   "source": [
    "import numpy as np"
   ]
  },
  {
   "cell_type": "markdown",
   "metadata": {
    "colab_type": "text",
    "id": "W6b95ub26xCn"
   },
   "source": [
    "Ahora nuestro ambiente de trabajo sabe que si ponemos algo del estilo `np.` significa que esa funcionalidad la debe buscar en NumPy. **Importante:** Si la librería NO se instaló correctamente, te saltará un mensaje de error.\n",
    "\n",
    "El principal tipo de dato sobre el que trabaja NumPy son los arreglos o arrays. Los arreglos son parecidos a listas y, de hecho, se pueden crear a partir de ellas."
   ]
  },
  {
   "cell_type": "code",
   "execution_count": 65,
   "metadata": {
    "colab": {},
    "colab_type": "code",
    "id": "-NYi46pS6xCr"
   },
   "outputs": [
    {
     "name": "stdout",
     "output_type": "stream",
     "text": [
      "[0, 1, 2, 3, 4, 5]\n",
      "[0 1 2 3 4 5]\n"
     ]
    }
   ],
   "source": [
    "lista = [0,1,2,3,4,5]\n",
    "arreglo = np.array(lista)\n",
    "print(lista)\n",
    "print(arreglo)"
   ]
  },
  {
   "cell_type": "markdown",
   "metadata": {
    "colab_type": "text",
    "id": "3GTbMtsp6xCy"
   },
   "source": [
    "Pero son más que una lista. Algunas cosas que no se podían hacer con las listas ahora sí se pueden con arreglos. Recordemos que sumarle un número a toda la lista no estaba permitido"
   ]
  },
  {
   "cell_type": "code",
   "execution_count": 71,
   "metadata": {
    "colab": {},
    "colab_type": "code",
    "id": "oBsq7xKM6xC0"
   },
   "outputs": [
    {
     "data": {
      "text/plain": [
       "[0, 1, 2, 3, 4, 5, 0, 1, 2, 3, 4, 5, 0, 1, 2, 3, 4, 5]"
      ]
     },
     "execution_count": 71,
     "metadata": {},
     "output_type": "execute_result"
    }
   ],
   "source": [
    "#lista + 1\n",
    "lista * 3"
   ]
  },
  {
   "cell_type": "markdown",
   "metadata": {
    "colab_type": "text",
    "id": "XM4rla9L6xC7"
   },
   "source": [
    "¡Pero ahora con los arreglos sí!"
   ]
  },
  {
   "cell_type": "code",
   "execution_count": 70,
   "metadata": {
    "colab": {},
    "colab_type": "code",
    "id": "QxQS9qSw6xC9"
   },
   "outputs": [
    {
     "data": {
      "text/plain": [
       "array([ 0,  3,  6,  9, 12, 15])"
      ]
     },
     "execution_count": 70,
     "metadata": {},
     "output_type": "execute_result"
    }
   ],
   "source": [
    "arreglo + 1"
   ]
  },
  {
   "cell_type": "markdown",
   "metadata": {
    "colab_type": "text",
    "id": "xgo-b6nG6xDE"
   },
   "source": [
    "Esto simplifica mucho hacer cuéntas. Pero no es sólo sumar, también muchas otras operaciones:"
   ]
  },
  {
   "cell_type": "code",
   "execution_count": 69,
   "metadata": {
    "colab": {},
    "colab_type": "code",
    "id": "GDFrflQS6xDG"
   },
   "outputs": [
    {
     "name": "stdout",
     "output_type": "stream",
     "text": [
      "[-5 -4 -3 -2 -1  0]\n",
      "[0.  0.5 1.  1.5 2.  2.5]\n",
      "[ 0  4  8 12 16 20]\n",
      "[ 0  1  4  9 16 25]\n"
     ]
    }
   ],
   "source": [
    "print(arreglo - 5)\n",
    "print(arreglo / 2)\n",
    "print(arreglo*4)\n",
    "print(arreglo**2)"
   ]
  },
  {
   "cell_type": "markdown",
   "metadata": {
    "colab_type": "text",
    "id": "OG5vEKqa6xDO"
   },
   "source": [
    "Comprobar que, salvo la multiplicación, ninguno estaba permitido en listas. ¿Qué hace la multiplicación en el caso de una lista? ==> concatena la misma lista n veces"
   ]
  },
  {
   "cell_type": "markdown",
   "metadata": {
    "colab_type": "text",
    "id": "8OLptg2q6xDP"
   },
   "source": [
    "### 2.1 Creación de arreglos"
   ]
  },
  {
   "cell_type": "markdown",
   "metadata": {
    "colab_type": "text",
    "id": "5Besuznw6xDR"
   },
   "source": [
    "Si bien podemos crear arreglos a partir de listas, NumPy viene con muchas funciones para hacerlo. Veamos algunas.\n",
    "\n",
    "Una muy utilizada es `np.arange([start,] stop[, step,], dtype=None)`\n",
    "Return evenly spaced values within a given interval.\n",
    "\n",
    "Values are generated within the half-open interval ``[start, stop)``\n",
    "(in other words, the interval including `start` but excluding `stop`).\n",
    "For integer arguments the function is equivalent to the Python built-in\n",
    "`range` function, but returns an ndarray rather than a list.\n",
    "\n",
    "When using a non-integer step, such as 0.1, the results will often not\n",
    "be consistent.  It is better to use `numpy.linspace` for these cases.\n",
    "\n",
    "\n",
    "\n",
    "\n",
    "Consulta su documentación. Otra opción es que, en una celda de código, escribas `np.arange` y aprietes `shift` + `tab`. De esa forma, te aparecerá la ayuda.\n",
    "\n",
    "Juega un poco con el ejemplo a continuación."
   ]
  },
  {
   "cell_type": "code",
   "execution_count": 92,
   "metadata": {
    "colab": {},
    "colab_type": "code",
    "id": "ffVupHId6xDS"
   },
   "outputs": [
    {
     "name": "stdout",
     "output_type": "stream",
     "text": [
      "[ 0.   2.5  5.   7.5 10. ]\n"
     ]
    }
   ],
   "source": [
    "arreglo = np.arange(0,10)\n",
    "arreglo = np.arange(0,10,1)\n",
    "arreglo = np.arange(0,10,2)\n",
    "arreglo =np.linspace(0,10,num=5)\n",
    "print(arreglo)\n",
    "#genera un arreglo numerico desde start, hasta end, salteando step. \n",
    "#Esta equiespaciado entre los enteros. en ese caso usar linspace.\n"
   ]
  },
  {
   "cell_type": "markdown",
   "metadata": {},
   "source": [
    "**Ejercicio:** investiga y crea ejemplos con las siguientes funciones\n",
    "\n",
    "[np.arrays](https://aprendeconalf.es/python/manual/numpy.html#Creaci%C3%B3ndearrays)\n",
    "\n",
    "* `np.linspace`. Presta particular atención a cómo se diferencia de `np.arange`.\n",
    "\n",
    "Crea y devuelve una referencia a un array de una dimensión cuyos elementos son la secuencia de n valores equidistantes desde inicio hasta fin\n",
    "\n",
    "**np.linspace(start,  stop,\n",
    "                  num=50, #indica en cuantas veces particiono el vector en espacios iguales\n",
    "                endpoint=True, #incluye el valor stop\n",
    "                retstep=False, dtype=None,  axis=0)**\n",
    "\n",
    "La diferencia con np.arrange es que este ultimo crea un array de una dimensión cuyos elementos son la secuencia desde inicio hasta fin tomando valores cada salto. \n",
    "         \n",
    "        arreglo = np.arange(0,10,2)\n",
    "        arreglo =np.linspace(0,10,num=5)\n",
    "Ambos estan particionados en 5 espacios pero el resultado es distinto\n",
    "\n",
    "\n",
    "\n",
    "* `np.zeros` y `np.ones`\n",
    "Crea arrays de ceros y unos, con dimension x,y,z,k,n...\n"
   ]
  },
  {
   "cell_type": "code",
   "execution_count": 115,
   "metadata": {},
   "outputs": [
    {
     "name": "stdout",
     "output_type": "stream",
     "text": [
      "[0 2 4 6 8]\n",
      "[ 0.   2.5  5.   7.5 10. ]\n",
      "[[0. 0. 0. 0.]\n",
      " [0. 0. 0. 0.]\n",
      " [0. 0. 0. 0.]]\n",
      "\n",
      "[[1. 1. 1.]\n",
      " [1. 1. 1.]\n",
      " [1. 1. 1.]]\n",
      "\n",
      "[[1. 0. 0.]\n",
      " [0. 1. 0.]\n",
      " [0. 0. 1.]]\n"
     ]
    }
   ],
   "source": [
    "arreglo = np.arange(0,10,2)\n",
    "print(arreglo)\n",
    "arreglo2 =np.linspace(0,10,num=5)\n",
    "print(arreglo2)\n",
    "print(np.zeros((3,4)))\n",
    "\n",
    "print()\n",
    "print(np.ones((3,3)))\n",
    "\n",
    "print()\n",
    "print(np.identity(3))"
   ]
  },
  {
   "cell_type": "code",
   "execution_count": 119,
   "metadata": {
    "colab": {},
    "colab_type": "code",
    "id": "2gj5gtxN6xDb"
   },
   "outputs": [
    {
     "name": "stdout",
     "output_type": "stream",
     "text": [
      "[[1 2 3 4]\n",
      " [5 6 7 8]]\n"
     ]
    }
   ],
   "source": [
    "arreglo_2d = np.array([[1,2,3,4],[5,6,7,8]])\n",
    "print(arreglo_2d)\n"
   ]
  },
  {
   "cell_type": "markdown",
   "metadata": {
    "colab_type": "text",
    "id": "hd1tzKoY6xDi"
   },
   "source": [
    "Notar que tiene dos filas y cuatro columnas. Podemos descubrir esto sin imprimirlo en pantalla, sino usando la propiedad `.shape` del arreglo."
   ]
  },
  {
   "cell_type": "code",
   "execution_count": 118,
   "metadata": {
    "colab": {},
    "colab_type": "code",
    "id": "39jXsa356xDk"
   },
   "outputs": [
    {
     "name": "stdout",
     "output_type": "stream",
     "text": [
      "(2, 4)\n"
     ]
    }
   ],
   "source": [
    "print(arreglo_2d.shape)"
   ]
  },
  {
   "cell_type": "markdown",
   "metadata": {
    "colab_type": "text",
    "id": "F0gQzLOW6xDp"
   },
   "source": [
    "Primero aparece el número de filas y luego el de columnas. ¿Qué estructura de dato es `(2, 4)`?\n",
    "*Matriz*\n",
    "\n",
    "Otro ejemplo:"
   ]
  },
  {
   "cell_type": "code",
   "execution_count": 120,
   "metadata": {
    "colab": {},
    "colab_type": "code",
    "id": "H-w91uc66xDr"
   },
   "outputs": [
    {
     "name": "stdout",
     "output_type": "stream",
     "text": [
      "[[1 2]\n",
      " [3 4]\n",
      " [5 6]\n",
      " [7 8]]\n",
      "(4, 2)\n"
     ]
    }
   ],
   "source": [
    "arreglo_2d = np.array([[1,2],[3,4],[5,6],[7,8]])\n",
    "print(arreglo_2d)\n",
    "print(arreglo_2d.shape)"
   ]
  },
  {
   "cell_type": "markdown",
   "metadata": {
    "colab_type": "text",
    "id": "NI-72zHF6xDx"
   },
   "source": [
    "Si queremos saber cuántos elementos tiene, podemos usar `.size`"
   ]
  },
  {
   "cell_type": "code",
   "execution_count": 121,
   "metadata": {
    "colab": {},
    "colab_type": "code",
    "id": "FAM3A5nN6xD1"
   },
   "outputs": [
    {
     "name": "stdout",
     "output_type": "stream",
     "text": [
      "8\n"
     ]
    }
   ],
   "source": [
    "print(arreglo_2d.size) "
   ]
  },
  {
   "cell_type": "markdown",
   "metadata": {
    "colab_type": "text",
    "id": "AHudbTb_6xD7"
   },
   "source": [
    "### 2.3 Funciones que operan sobre arreglos\n",
    "\n",
    "Los arreglos de NumPy incorporan un montón de funciones que operan sobre los arreglos. Veamos algunos ejemplos."
   ]
  },
  {
   "cell_type": "code",
   "execution_count": 122,
   "metadata": {
    "colab": {},
    "colab_type": "code",
    "id": "rsZiMiFa6xD9"
   },
   "outputs": [
    {
     "name": "stdout",
     "output_type": "stream",
     "text": [
      "-100\n",
      "95\n"
     ]
    }
   ],
   "source": [
    "un_arreglo = np.array([-100,2,3,17,25,1,95])\n",
    "print(un_arreglo.min())\n",
    "print(un_arreglo.max())"
   ]
  },
  {
   "cell_type": "markdown",
   "metadata": {
    "colab_type": "text",
    "id": "E6xoQQOF6xED"
   },
   "source": [
    "En el caso 2D, podemos pedir que estas funciones operen sobre todo el arreglo, o por ejes.\n",
    "\n"
   ]
  },
  {
   "cell_type": "code",
   "execution_count": 123,
   "metadata": {
    "colab": {},
    "colab_type": "code",
    "id": "V-MBXYIo6xEH"
   },
   "outputs": [
    {
     "name": "stdout",
     "output_type": "stream",
     "text": [
      "[[0 2 3]\n",
      " [6 5 1]\n",
      " [8 7 4]]\n"
     ]
    }
   ],
   "source": [
    "# No te preocupes si no entiendes lo que hace esta celda\n",
    "arreglo_2d = np.arange(9)\n",
    "np.random.shuffle(arreglo_2d) #desordena de manera aleatoria los valores del arreglo\n",
    "arreglo_2d = arreglo_2d.reshape((3,3)) #modifico el vector 1x9 por matriz 3x3\n",
    "print(arreglo_2d)"
   ]
  },
  {
   "cell_type": "markdown",
   "metadata": {
    "colab_type": "text",
    "id": "ieZnEuby6xEN"
   },
   "source": [
    "Trata de entender la diferencia entre las siguientes instrucciones:"
   ]
  },
  {
   "cell_type": "code",
   "execution_count": 124,
   "metadata": {
    "colab": {},
    "colab_type": "code",
    "id": "sUB0kNoj6xET"
   },
   "outputs": [
    {
     "name": "stdout",
     "output_type": "stream",
     "text": [
      "8\n",
      "[8 7 4]\n",
      "[3 6 8]\n"
     ]
    }
   ],
   "source": [
    "print(arreglo_2d.max())  #calcula el maximo de todo el arreglo\n",
    "print(arreglo_2d.max(axis = 0)) #calcula el maximo por columna\n",
    "print(arreglo_2d.max(axis = 1)) #calcula el maximo por fila"
   ]
  },
  {
   "cell_type": "markdown",
   "metadata": {
    "colab_type": "text",
    "id": "WtKLIys36xEY"
   },
   "source": [
    "### Últimos comentarios\n",
    "\n",
    "* No dijimos nada sobre indexado ni slicing. Esto se debe a que, para arreglos 1D, es similar que para la listas. Para arreglos 2D, es apenas más complicado. Para estudiarlo, jugar con la siguiente celda:"
   ]
  },
  {
   "cell_type": "code",
   "execution_count": 125,
   "metadata": {
    "colab": {},
    "colab_type": "code",
    "id": "CNAbEbBw6xEa"
   },
   "outputs": [
    {
     "name": "stdout",
     "output_type": "stream",
     "text": [
      "[[0 1 2]\n",
      " [3 4 5]\n",
      " [6 7 8]]\n",
      "[3 4 5]\n"
     ]
    }
   ],
   "source": [
    "arreglo_2d = np.arange(9).reshape(3,3) #genera un vector del 0 a 9 y lo transforma en matrix 3x3\n",
    "print(arreglo_2d)\n",
    "print(arreglo_2d[1,:]) #tomo la segunda fila y todas las columnas"
   ]
  },
  {
   "cell_type": "markdown",
   "metadata": {
    "colab_type": "text",
    "id": "svHQKfw_6xEg"
   },
   "source": [
    "* Podemos usar `arreglo.max()` o `np.max(arreglo)`. Esto no es válido solamente para la función `max()`, sino también para casi todas las funciones que operen sobre arreglos. "
   ]
  },
  {
   "cell_type": "code",
   "execution_count": 126,
   "metadata": {
    "colab": {},
    "colab_type": "code",
    "id": "aTBJASA26xEh"
   },
   "outputs": [
    {
     "name": "stdout",
     "output_type": "stream",
     "text": [
      "-100 -100\n"
     ]
    }
   ],
   "source": [
    "print(np.min(un_arreglo), un_arreglo.min())"
   ]
  },
  {
   "cell_type": "markdown",
   "metadata": {
    "colab_type": "text",
    "id": "vL5QD71a6xEo"
   },
   "source": [
    "Existe mucho más - realmente mucho más - para decir sobre NumPy. Pero mucho irá apareciendo a medida que lo vayamos necesitando. Y, además, ¡este notebook ya es muy largo!\n",
    "\n",
    "### Ejercitación\n",
    "\n",
    "**Ejercicio 1**: Escribir un arreglo con 100 números equiespaciados del 0 al 9. Pista: `linspace`"
   ]
  },
  {
   "cell_type": "code",
   "execution_count": 1,
   "metadata": {
    "colab": {},
    "colab_type": "code",
    "id": "_p2bvcte6xEq"
   },
   "outputs": [
    {
     "name": "stdout",
     "output_type": "stream",
     "text": [
      "[0. 1. 2. 3. 4. 5. 6. 7. 8. 9.]\n",
      "10\n"
     ]
    }
   ],
   "source": [
    "import numpy as np\n",
    "Arreglo=np.linspace(0,9,100,endpoint=True)\n",
    "print(Arreglo)\n",
    "print(Arreglo.size)\n"
   ]
  },
  {
   "cell_type": "markdown",
   "metadata": {
    "colab_type": "text",
    "id": "1qRG5b3m6xEv"
   },
   "source": [
    "**Ejercicio 2:** crear un arreglo 1D de 20 ceros. Reemplazar los primeros 15 elementos por unos."
   ]
  },
  {
   "cell_type": "code",
   "execution_count": 6,
   "metadata": {
    "colab": {},
    "colab_type": "code",
    "id": "6xPwCrg26xEx"
   },
   "outputs": [
    {
     "name": "stdout",
     "output_type": "stream",
     "text": [
      "20\n",
      "[1. 1. 1. 1. 1. 1. 1. 1. 1. 1. 1. 1. 1. 1. 1. 0. 0. 0. 0. 0.]\n"
     ]
    }
   ],
   "source": [
    "import numpy as np\n",
    "Arreglo=np.zeros(20)\n",
    "Arreglo[0:15]=1 #[:15]\n",
    "print(Arreglo)\n",
    "print(Arreglo.size)\n"
   ]
  },
  {
   "cell_type": "markdown",
   "metadata": {
    "colab_type": "text",
    "id": "IwdggYiK6xE1"
   },
   "source": [
    "**Ejercicio 3:** crear un arreglo 1D de 50 ceros. Reemplazar los primeros 25 elementos por los números naturales del 0 al 24."
   ]
  },
  {
   "cell_type": "code",
   "execution_count": 4,
   "metadata": {
    "colab": {},
    "colab_type": "code",
    "id": "Sp5joIbM6xE3"
   },
   "outputs": [
    {
     "name": "stdout",
     "output_type": "stream",
     "text": [
      "[ 0.  1.  2.  3.  4.  5.  6.  7.  8.  9. 10. 11. 12. 13. 14. 15. 16. 17.\n",
      " 18. 19. 20. 21. 22. 23. 24.  0.  0.  0.  0.  0.  0.  0.  0.  0.  0.  0.\n",
      "  0.  0.  0.  0.  0.  0.  0.  0.  0.  0.  0.  0.  0.  0.]\n",
      "50\n"
     ]
    }
   ],
   "source": [
    "import numpy as np\n",
    "Arreglo=np.zeros(50)\n",
    "Arreglo[:25]=np.arange(0,25)#[0:25], el cero esta de mas porque es por default\n",
    "print(Arreglo)\n",
    "print(Arreglo.size)\n"
   ]
  },
  {
   "cell_type": "markdown",
   "metadata": {
    "colab_type": "text",
    "id": "Vx74LT026xE-"
   },
   "source": [
    "**Ejercicio 4:** crear un arreglo 2D de 3 filas y 3 columnas, lleno de ceros. Reemplazar los elemento de la segunda columna por los números 1, 2 y 3 respectivamente. Es decir, crear la siguiente matriz:\n",
    "\n",
    "```\n",
    "0 1 0 \n",
    "0 2 0\n",
    "0 3 0\n",
    "```"
   ]
  },
  {
   "cell_type": "code",
   "execution_count": 2,
   "metadata": {
    "colab": {},
    "colab_type": "code",
    "id": "ckTUAo6D6xE_"
   },
   "outputs": [
    {
     "name": "stdout",
     "output_type": "stream",
     "text": [
      "(3, 3)\n",
      "[[0. 1. 0.]\n",
      " [0. 2. 0.]\n",
      " [0. 3. 0.]]\n"
     ]
    }
   ],
   "source": [
    "import numpy as np\n",
    "Arreglo=np.zeros((3,3))\n",
    "Arreglo[:,1]=[1,2,3]\n",
    "print(Arreglo.shape)\n",
    "print(Arreglo)\n"
   ]
  },
  {
   "cell_type": "markdown",
   "metadata": {
    "colab_type": "text",
    "id": "5K-FKtOA6xFE"
   },
   "source": [
    "**Ejercicio 5:** crear un arreglo 2D de 3 filas y 3 columnas, lleno de ceros. Reemplazar los elemento de la diagonal por unos. Es decir, crear la siguiente matriz:\n",
    "\n",
    "```\n",
    "1 0 0 \n",
    "0 1 0\n",
    "0 0 1\n",
    "```"
   ]
  },
  {
   "cell_type": "code",
   "execution_count": 11,
   "metadata": {
    "colab": {},
    "colab_type": "code",
    "id": "VrkZuD4S6xFH"
   },
   "outputs": [
    {
     "name": "stdout",
     "output_type": "stream",
     "text": [
      "(3, 3)\n",
      "[[1. 0. 0.]\n",
      " [0. 1. 0.]\n",
      " [0. 0. 1.]]\n",
      "\n",
      "[[1. 0. 0.]\n",
      " [0. 1. 0.]\n",
      " [0. 0. 1.]]\n",
      "\n",
      "[[1. 0. 0.]\n",
      " [0. 1. 0.]\n",
      " [0. 0. 1.]]\n",
      "\n",
      "[[1. 0. 0.]\n",
      " [0. 1. 0.]\n",
      " [0. 0. 1.]]\n",
      "\n",
      "[[1. 0. 0.]\n",
      " [0. 1. 0.]\n",
      " [0. 0. 1.]]\n"
     ]
    }
   ],
   "source": [
    "import numpy as np\n",
    "##forma 1\n",
    "Arreglo=np.zeros((3,3))\n",
    "for i in np.arange(0,3):\n",
    "    for j in np.arange(0,3):\n",
    "            if (i==j):\n",
    "                Arreglo[i,j]=1\n",
    "            else:\n",
    "                Arreglo[i,j]=0             \n",
    "print(Arreglo.shape)\n",
    "print(Arreglo)\n",
    "print()\n",
    "\n",
    "##forma 2\n",
    "\n",
    "identidad=np.identity(3)\n",
    "print(identidad)\n",
    "print()\n",
    "identidad2=np.eye(3) #en este caso es igual a identidad pero identidad funcioa con matrices cuadradas NxN y eye con matrices rectangulares NxM\n",
    "print(identidad2)\n",
    "print()\n",
    "##forma 3\n",
    "Arreglo=np.zeros((3,3))\n",
    "np.fill_diagonal(Arreglo,Arreglo.diagonal()+1)\n",
    "print(Arreglo)\n",
    "print()\n",
    "##forma 4\n",
    "n=3\n",
    "Arreglo=np.zeros((3,3))\n",
    "Arreglo.flat[::n+1]=1 #sustituye la diagonal con un array de 1 directamente\n",
    "print(Arreglo)\n",
    "#A flatiter iterator is returned by x.flat for any array x. It allows iterating over the array as if it were a 1-D array, either in a for-loop or by calling its next method.\n",
    "\n"
   ]
  },
  {
   "cell_type": "code",
   "execution_count": 3,
   "metadata": {},
   "outputs": [
    {
     "ename": "AttributeError",
     "evalue": "module 'numpy' has no attribute 'flat'",
     "output_type": "error",
     "traceback": [
      "\u001b[0;31m---------------------------------------------------------------------------\u001b[0m",
      "\u001b[0;31mAttributeError\u001b[0m                            Traceback (most recent call last)",
      "\u001b[0;32m<ipython-input-3-a1d4b7a694e8>\u001b[0m in \u001b[0;36m<module>\u001b[0;34m\u001b[0m\n\u001b[0;32m----> 1\u001b[0;31m \u001b[0mnp\u001b[0m\u001b[0;34m.\u001b[0m\u001b[0mflat\u001b[0m\u001b[0;34m\u001b[0m\u001b[0;34m\u001b[0m\u001b[0m\n\u001b[0m",
      "\u001b[0;32m~/anaconda3/envs/datascience/lib/python3.8/site-packages/numpy/__init__.py\u001b[0m in \u001b[0;36m__getattr__\u001b[0;34m(attr)\u001b[0m\n\u001b[1;32m    212\u001b[0m                 \u001b[0;32mreturn\u001b[0m \u001b[0mTester\u001b[0m\u001b[0;34m\u001b[0m\u001b[0;34m\u001b[0m\u001b[0m\n\u001b[1;32m    213\u001b[0m             \u001b[0;32melse\u001b[0m\u001b[0;34m:\u001b[0m\u001b[0;34m\u001b[0m\u001b[0;34m\u001b[0m\u001b[0m\n\u001b[0;32m--> 214\u001b[0;31m                 raise AttributeError(\"module {!r} has no attribute \"\n\u001b[0m\u001b[1;32m    215\u001b[0m                                      \"{!r}\".format(__name__, attr))\n\u001b[1;32m    216\u001b[0m \u001b[0;34m\u001b[0m\u001b[0m\n",
      "\u001b[0;31mAttributeError\u001b[0m: module 'numpy' has no attribute 'flat'"
     ]
    }
   ],
   "source": [
    "\n",
    "np.fill_diagonal() funciona sin que sea matriz cuadrada\n",
    "Signature: np.fill_diagonal(a, val, wrap=False)\n",
    "Docstring:\n",
    "Fill the main diagonal of the given array of any dimensionality.\n",
    "\n",
    "For an array `a` with ``a.ndim >= 2``, the diagonal is the list of\n",
    "locations with indices ``a[i, ..., i]`` all identical. This function\n",
    "modifies the input array in-place, it does not return a value.\n",
    "\n",
    "Parameters\n",
    "----------\n",
    "a : array, at least 2-D.\n",
    "  Array whose diagonal is to be filled, it gets modified in-place.\n",
    "\n",
    "val : scalar\n",
    "  Value to be written on the diagonal, its type must be compatible with\n",
    "  that of the array a.\n",
    "\n",
    "wrap : bool\n",
    "  For tall matrices in NumPy version up to 1.6.2, the\n",
    "  diagonal \"wrapped\" after N columns. You can have this behavior\n",
    "  with this option. This affects only tall matrices.\n",
    "\n",
    "See also\n",
    "--------\n",
    "diag_indices, diag_indices_from\n",
    "\n",
    "Notes\n",
    "-----\n",
    ".. versionadded:: 1.4.0\n",
    "\n",
    "This functionality can be obtained via `diag_indices`, but internally\n",
    "this version uses a much faster implementation that never constructs the\n",
    "indices and uses simple slicing.\n",
    "\n",
    "Examples\n",
    "--------\n",
    ">>> a = np.zeros((3, 3), int)\n",
    ">>> np.fill_diagonal(a, 5)\n",
    ">>> a\n",
    "array([[5, 0, 0],\n",
    "       [0, 5, 0],\n",
    "       [0, 0, 5]])"
   ]
  },
  {
   "cell_type": "code",
   "execution_count": 4,
   "metadata": {},
   "outputs": [
    {
     "ename": "TypeError",
     "evalue": "identity() missing 1 required positional argument: 'n'",
     "output_type": "error",
     "traceback": [
      "\u001b[0;31m---------------------------------------------------------------------------\u001b[0m",
      "\u001b[0;31mTypeError\u001b[0m                                 Traceback (most recent call last)",
      "\u001b[0;32m<ipython-input-4-5c5acea1dda7>\u001b[0m in \u001b[0;36m<module>\u001b[0;34m\u001b[0m\n\u001b[0;32m----> 1\u001b[0;31m \u001b[0mnp\u001b[0m\u001b[0;34m.\u001b[0m\u001b[0midentity\u001b[0m\u001b[0;34m(\u001b[0m\u001b[0;34m)\u001b[0m\u001b[0;34m\u001b[0m\u001b[0;34m\u001b[0m\u001b[0m\n\u001b[0m",
      "\u001b[0;31mTypeError\u001b[0m: identity() missing 1 required positional argument: 'n'"
     ]
    }
   ],
   "source": []
  },
  {
   "cell_type": "markdown",
   "metadata": {
    "colab_type": "text",
    "id": "Ap348o4h6xFN"
   },
   "source": [
    "**Ejercicio 6:** crear un arreglo 2D de 100 filas y 100 columnas, lleno de ceros. Reemplazar los elemento de la diagonal por unos. Es decir, crear la siguiente matriz:\n",
    "\n",
    "```\n",
    "1 0 0 ... 0 0 0 \n",
    "0 1 0 ... 0 0 0\n",
    "0 0 1 ... 0 0 0\n",
    "...  \n",
    "0 0 0 ... 1 0 0\n",
    "0 0 0 ... 0 1 0\n",
    "0 0 0 ... 0 0 1\n",
    "```"
   ]
  },
  {
   "cell_type": "code",
   "execution_count": 160,
   "metadata": {
    "colab": {},
    "colab_type": "code",
    "id": "UHkEt17i6xFP"
   },
   "outputs": [
    {
     "name": "stdout",
     "output_type": "stream",
     "text": [
      "(100, 100)\n",
      "[[1. 0. 0. ... 0. 0. 0.]\n",
      " [0. 1. 0. ... 0. 0. 0.]\n",
      " [0. 0. 1. ... 0. 0. 0.]\n",
      " ...\n",
      " [0. 0. 0. ... 1. 0. 0.]\n",
      " [0. 0. 0. ... 0. 1. 0.]\n",
      " [0. 0. 0. ... 0. 0. 1.]]\n",
      "\n",
      "\n",
      "[[1. 0. 0. ... 0. 0. 0.]\n",
      " [0. 1. 0. ... 0. 0. 0.]\n",
      " [0. 0. 1. ... 0. 0. 0.]\n",
      " ...\n",
      " [0. 0. 0. ... 1. 0. 0.]\n",
      " [0. 0. 0. ... 0. 1. 0.]\n",
      " [0. 0. 0. ... 0. 0. 1.]]\n"
     ]
    },
    {
     "data": {
      "text/plain": [
       "dtype('float64')"
      ]
     },
     "execution_count": 160,
     "metadata": {},
     "output_type": "execute_result"
    }
   ],
   "source": [
    "import numpy as np\n",
    "Arreglo=np.zeros((100,100))\n",
    "for i in np.arange(0,100):\n",
    "    for j in np.arange(0,100):\n",
    "            if (i==j):\n",
    "                Arreglo[i,j]=1\n",
    "            else:\n",
    "                Arreglo[i,j]=0\n",
    "\n",
    "#otra forma mas rapida\n",
    "#tam=10\n",
    "#A=np.zeros((tam,tam))\n",
    "#for i in range(tam):\n",
    "#    A[i,i]=1\n",
    "\n",
    "print(Arreglo.shape)\n",
    "print(Arreglo)\n",
    "print()\n",
    "\n",
    "print()\n",
    "\n",
    "identidad=np.identity(100)\n",
    "print(identidad)\n",
    "\n",
    "\n",
    "identidad.dtype"
   ]
  },
  {
   "cell_type": "markdown",
   "metadata": {
    "colab_type": "text",
    "id": "T78FHjuU6xFV"
   },
   "source": [
    "**Extra:**\n",
    "* ¿Qué tipo de dato está usando NumPy cuando crea los arreglos?\n",
    "Los tipos existentes en NumPy reciben como nombre el tipo básico de datos que contienen, como int, float o complex, y, a continuación, un número indicando el número de bits por elemento.\n",
    "\n",
    "Para determinar el tipo de dato se puede usar el comando  `().dtype` que indicara el tipo de dato float, int, complejo y la cantidad de bit que usa la maquina 8, 16, 32, 64.\n",
    "\n",
    "* ¿Y si queremos cambiarle el tipo de dato, por ejemplo a `int`? Googlear \"numpy astype\". \n",
    "Hace un copia de un array aplicándole otro tipo de datos a un array \n",
    "ej.crear un array de números a partir de un array que contenga textos representando números:\n",
    "\n",
    "https://www.interactivechaos.com/manual/tutorial-de-numpy/el-metodo-astype\n",
    "\n",
    "* ¿Qué pasa si usamos `astype(bool)`?\n",
    "\n",
    "convierte mi matriz en booleana, solo si la matriz tiene unos y ceros."
   ]
  },
  {
   "cell_type": "code",
   "execution_count": null,
   "metadata": {},
   "outputs": [],
   "source": []
  }
 ],
 "metadata": {
  "colab": {
   "collapsed_sections": [
    "1AJNWoqhPBQJ",
    "qecxWClXPBQM",
    "IeZnpQLV6xAv",
    "3t8rRW2j6xBU",
    "8OLptg2q6xDP",
    "GrbJZzEA6xDZ",
    "AHudbTb_6xD7",
    "WtKLIys36xEY",
    "vL5QD71a6xEo"
   ],
   "name": "DS_Bitácora_03_NumPy.ipynb",
   "provenance": []
  },
  "kernelspec": {
   "display_name": "Python 3",
   "language": "python",
   "name": "python3"
  },
  "language_info": {
   "codemirror_mode": {
    "name": "ipython",
    "version": 3
   },
   "file_extension": ".py",
   "mimetype": "text/x-python",
   "name": "python",
   "nbconvert_exporter": "python",
   "pygments_lexer": "ipython3",
   "version": "3.8.5"
  }
 },
 "nbformat": 4,
 "nbformat_minor": 4
}
